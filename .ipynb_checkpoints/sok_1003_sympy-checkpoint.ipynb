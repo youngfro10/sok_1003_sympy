{
 "cells": [
  {
   "cell_type": "code",
   "execution_count": 1,
   "id": "abee1307-0ecc-4dd4-b264-bae1c045c8d9",
   "metadata": {},
   "outputs": [],
   "source": [
    "import sympy as sp\n",
    "import numpy as np\n",
    "import matplotlib.pyplot as plt\n",
    "from sympy.solvers import solve\n",
    "from sympy import *\n",
    "\n",
    "x,y = sp.symbols('x y')"
   ]
  },
  {
   "cell_type": "markdown",
   "id": "22b01fb6-47ee-46b3-a7d4-c84e96b1daad",
   "metadata": {},
   "source": [
    "# Likningsett 15"
   ]
  },
  {
   "cell_type": "markdown",
   "id": "9234e6d3-ff1c-4685-a7a1-3f7d9163f361",
   "metadata": {},
   "source": [
    "Oppgave 1a"
   ]
  },
  {
   "cell_type": "code",
   "execution_count": 2,
   "id": "2233e285-f88e-4a93-b987-bf90a818fd02",
   "metadata": {},
   "outputs": [
    {
     "data": {
      "text/latex": [
       "$\\displaystyle 2 x + 4 y = 6$"
      ],
      "text/plain": [
       "Eq(2*x + 4*y, 6)"
      ]
     },
     "execution_count": 2,
     "metadata": {},
     "output_type": "execute_result"
    }
   ],
   "source": [
    "eq1=sp.Eq(2*x + 4*y,6)\n",
    "eq1"
   ]
  },
  {
   "cell_type": "code",
   "execution_count": 3,
   "id": "1db1f6f0-18ae-4637-ae08-9d9c73c09e9f",
   "metadata": {},
   "outputs": [
    {
     "data": {
      "text/latex": [
       "$\\displaystyle - 2 x + y = 4$"
      ],
      "text/plain": [
       "Eq(-2*x + y, 4)"
      ]
     },
     "execution_count": 3,
     "metadata": {},
     "output_type": "execute_result"
    }
   ],
   "source": [
    "eq2=sp.Eq(-2*x + y,4)\n",
    "eq2"
   ]
  },
  {
   "cell_type": "code",
   "execution_count": 4,
   "id": "3cd66d5e-e0ce-4852-a59e-6b16f80e0e45",
   "metadata": {},
   "outputs": [
    {
     "data": {
      "text/plain": [
       "{x: -1, y: 2}"
      ]
     },
     "execution_count": 4,
     "metadata": {},
     "output_type": "execute_result"
    }
   ],
   "source": [
    " solve ([eq1,eq2], [x,y])"
   ]
  },
  {
   "cell_type": "markdown",
   "id": "cd252a5f-ebc1-4b4b-a95d-08b2c951af8d",
   "metadata": {},
   "source": [
    "Oppgave 1b"
   ]
  },
  {
   "cell_type": "code",
   "execution_count": 5,
   "id": "8d8222b0-c84e-4b14-a532-c6ba58df091a",
   "metadata": {},
   "outputs": [
    {
     "data": {
      "text/latex": [
       "$\\displaystyle 2 x - y = -1$"
      ],
      "text/plain": [
       "Eq(2*x - y, -1)"
      ]
     },
     "execution_count": 5,
     "metadata": {},
     "output_type": "execute_result"
    }
   ],
   "source": [
    "eq3=sp.Eq(2*x + -y,-1)\n",
    "eq3"
   ]
  },
  {
   "cell_type": "code",
   "execution_count": 6,
   "id": "2f602c9a-96a2-4466-ba3b-087856c7a041",
   "metadata": {},
   "outputs": [
    {
     "data": {
      "text/latex": [
       "$\\displaystyle x^{2} + x - y = 1$"
      ],
      "text/plain": [
       "Eq(x**2 + x - y, 1)"
      ]
     },
     "execution_count": 6,
     "metadata": {},
     "output_type": "execute_result"
    }
   ],
   "source": [
    "eq4=sp.Eq(x**2 + x - y,1)\n",
    "eq4"
   ]
  },
  {
   "cell_type": "code",
   "execution_count": 7,
   "id": "0a34ab37-21ae-45fc-bffe-e788996a88fc",
   "metadata": {},
   "outputs": [
    {
     "data": {
      "text/plain": [
       "[(-1, -1), (2, 5)]"
      ]
     },
     "execution_count": 7,
     "metadata": {},
     "output_type": "execute_result"
    }
   ],
   "source": [
    "solve ([eq3,eq4], [x,y])"
   ]
  },
  {
   "cell_type": "markdown",
   "id": "76fff165-1b0f-4d6d-b652-d029eeaf5bea",
   "metadata": {},
   "source": [
    "Oppgave 2a"
   ]
  },
  {
   "cell_type": "code",
   "execution_count": 8,
   "id": "36d0de86-bce2-4663-b2cf-1ed3ef0af41c",
   "metadata": {},
   "outputs": [],
   "source": [
    "Variable = 12"
   ]
  },
  {
   "cell_type": "code",
   "execution_count": 9,
   "id": "efdaf13d-2e8d-4000-8ae0-191ec7b63ea5",
   "metadata": {},
   "outputs": [
    {
     "data": {
      "text/latex": [
       "$\\displaystyle 3 x - 12 = - 6 y$"
      ],
      "text/plain": [
       "Eq(3*x - 12, -6*y)"
      ]
     },
     "execution_count": 9,
     "metadata": {},
     "output_type": "execute_result"
    }
   ],
   "source": [
    "eq5=sp.Eq(x*3 - 12,-6*y)\n",
    "eq5"
   ]
  },
  {
   "cell_type": "code",
   "execution_count": 10,
   "id": "b69076c9-2cbe-4e8e-9c5a-27ce58532c0a",
   "metadata": {},
   "outputs": [
    {
     "data": {
      "text/latex": [
       "$\\displaystyle 4 x - 8 y = 16$"
      ],
      "text/plain": [
       "Eq(4*x - 8*y, 16)"
      ]
     },
     "execution_count": 10,
     "metadata": {},
     "output_type": "execute_result"
    }
   ],
   "source": [
    "eq6=sp.Eq(4*x-8*y,16)\n",
    "eq6"
   ]
  },
  {
   "cell_type": "code",
   "execution_count": 11,
   "id": "011de7a2-f718-47dd-a2e4-10daf98f56da",
   "metadata": {},
   "outputs": [
    {
     "data": {
      "text/plain": [
       "{x: 4, y: 0}"
      ]
     },
     "execution_count": 11,
     "metadata": {},
     "output_type": "execute_result"
    }
   ],
   "source": [
    "solve ([eq5,eq6], [x,y])"
   ]
  },
  {
   "cell_type": "markdown",
   "id": "41eb6a5a-17c7-432f-a411-e5e22393de61",
   "metadata": {},
   "source": [
    "Oppgave 2b"
   ]
  },
  {
   "cell_type": "code",
   "execution_count": 12,
   "id": "8d8f8ab2-faf1-4b4a-b1f6-4feea568aec4",
   "metadata": {},
   "outputs": [
    {
     "data": {
      "text/latex": [
       "$\\displaystyle x^{2} - 4 x - 3 = - 3 y$"
      ],
      "text/plain": [
       "Eq(x**2 - 4*x - 3, -3*y)"
      ]
     },
     "execution_count": 12,
     "metadata": {},
     "output_type": "execute_result"
    }
   ],
   "source": [
    "eq7=sp.Eq(x**2 - 4*x- 3,-3*y)\n",
    "eq7"
   ]
  },
  {
   "cell_type": "code",
   "execution_count": 14,
   "id": "9eb01394-abb3-439c-aba9-3353f03071d9",
   "metadata": {},
   "outputs": [],
   "source": [
    "Variable = 8"
   ]
  },
  {
   "cell_type": "code",
   "execution_count": 15,
   "id": "1404a98f-47ec-4c7b-b245-ef1e675ba8d3",
   "metadata": {},
   "outputs": [
    {
     "data": {
      "text/latex": [
       "$\\displaystyle 2 y = 8 - x$"
      ],
      "text/plain": [
       "Eq(2*y, 8 - x)"
      ]
     },
     "execution_count": 15,
     "metadata": {},
     "output_type": "execute_result"
    }
   ],
   "source": [
    "eq8=sp.Eq(2*y,8-x)\n",
    "eq8"
   ]
  },
  {
   "cell_type": "code",
   "execution_count": 16,
   "id": "1aeb0160-9a8a-482e-960f-6dd517a1db2e",
   "metadata": {},
   "outputs": [
    {
     "data": {
      "text/plain": [
       "[(11/4 - sqrt(23)*I/4, 21/8 + sqrt(23)*I/8),\n",
       " (11/4 + sqrt(23)*I/4, 21/8 - sqrt(23)*I/8)]"
      ]
     },
     "execution_count": 16,
     "metadata": {},
     "output_type": "execute_result"
    }
   ],
   "source": [
    "solve ([eq7,eq8], [x,y])"
   ]
  },
  {
   "cell_type": "markdown",
   "id": "b3e80570-88e8-48e8-a5f8-610fd7e6efd4",
   "metadata": {},
   "source": [
    "# Likningsett 16\n",
    "Oppgave 1a."
   ]
  },
  {
   "cell_type": "code",
   "execution_count": 17,
   "id": "93bf6eee-20e5-4b1a-a217-5ef452c3859c",
   "metadata": {},
   "outputs": [
    {
     "data": {
      "text/latex": [
       "$\\displaystyle 4 x + 2 y = 12$"
      ],
      "text/plain": [
       "Eq(4*x + 2*y, 12)"
      ]
     },
     "execution_count": 17,
     "metadata": {},
     "output_type": "execute_result"
    }
   ],
   "source": [
    "eq1=sp.Eq(4*x + 2*y,12)\n",
    "eq1"
   ]
  },
  {
   "cell_type": "code",
   "execution_count": 18,
   "id": "cb2f1e37-7aae-423f-bc55-95056d671e17",
   "metadata": {},
   "outputs": [
    {
     "data": {
      "text/latex": [
       "$\\displaystyle 6 x - 2 y = 8$"
      ],
      "text/plain": [
       "Eq(6*x - 2*y, 8)"
      ]
     },
     "execution_count": 18,
     "metadata": {},
     "output_type": "execute_result"
    }
   ],
   "source": [
    "eq2=sp.Eq(6*x - 2*y,8)\n",
    "eq2"
   ]
  },
  {
   "cell_type": "code",
   "execution_count": 19,
   "id": "712cced7-8fd8-4efb-aa4d-6636118a8c76",
   "metadata": {},
   "outputs": [
    {
     "data": {
      "text/plain": [
       "{x: 2, y: 2}"
      ]
     },
     "execution_count": 19,
     "metadata": {},
     "output_type": "execute_result"
    }
   ],
   "source": [
    "solve ([eq1,eq2], [x,y])"
   ]
  },
  {
   "cell_type": "markdown",
   "id": "8ba370a6-8ff1-435b-9da0-f9b243472183",
   "metadata": {},
   "source": [
    "Oppgave 1b"
   ]
  },
  {
   "cell_type": "code",
   "execution_count": 20,
   "id": "758f7223-193f-4b7b-aaaf-1e6500361db7",
   "metadata": {},
   "outputs": [
    {
     "data": {
      "text/latex": [
       "$\\displaystyle 2 x + y^{2} = 25$"
      ],
      "text/plain": [
       "Eq(2*x + y**2, 25)"
      ]
     },
     "execution_count": 20,
     "metadata": {},
     "output_type": "execute_result"
    }
   ],
   "source": [
    "eq3=sp.Eq(2*x + y**2,25)\n",
    "eq3"
   ]
  },
  {
   "cell_type": "code",
   "execution_count": 21,
   "id": "400c907f-7e60-4092-b636-591a08283155",
   "metadata": {},
   "outputs": [
    {
     "data": {
      "text/latex": [
       "$\\displaystyle x - 2 y = 10$"
      ],
      "text/plain": [
       "Eq(x - 2*y, 10)"
      ]
     },
     "execution_count": 21,
     "metadata": {},
     "output_type": "execute_result"
    }
   ],
   "source": [
    "eq4=sp.Eq(x - 2*y,10)\n",
    "eq4"
   ]
  },
  {
   "cell_type": "code",
   "execution_count": 22,
   "id": "f99ba96e-bc6a-4122-b0f3-105dcb2a2bd2",
   "metadata": {},
   "outputs": [
    {
     "data": {
      "text/plain": [
       "[(0, -5), (12, 1)]"
      ]
     },
     "execution_count": 22,
     "metadata": {},
     "output_type": "execute_result"
    }
   ],
   "source": [
    "solve ([eq3,eq4], [x,y])"
   ]
  },
  {
   "cell_type": "markdown",
   "id": "f439923a-68e3-476d-b2a3-3f5005aa62a5",
   "metadata": {},
   "source": [
    "Oppgave 2a"
   ]
  },
  {
   "cell_type": "code",
   "execution_count": 23,
   "id": "9ab9d202-41c1-44ba-98e9-9cd10fecf85c",
   "metadata": {},
   "outputs": [
    {
     "data": {
      "text/latex": [
       "$\\displaystyle 4 x - 4 y = 8$"
      ],
      "text/plain": [
       "Eq(4*x - 4*y, 8)"
      ]
     },
     "execution_count": 23,
     "metadata": {},
     "output_type": "execute_result"
    }
   ],
   "source": [
    "eq5=sp.Eq(4*x - 4*y,8)\n",
    "eq5"
   ]
  },
  {
   "cell_type": "code",
   "execution_count": 24,
   "id": "f44824ac-1155-4f0d-a6c9-8fc57853d18e",
   "metadata": {},
   "outputs": [
    {
     "data": {
      "text/latex": [
       "$\\displaystyle 9 x - 5 y = 26$"
      ],
      "text/plain": [
       "Eq(9*x - 5*y, 26)"
      ]
     },
     "execution_count": 24,
     "metadata": {},
     "output_type": "execute_result"
    }
   ],
   "source": [
    "eq6=sp.Eq(9*x - 5*y,26)\n",
    "eq6"
   ]
  },
  {
   "cell_type": "code",
   "execution_count": 25,
   "id": "4f92373b-b4c1-46ef-a412-da7e4a15cafa",
   "metadata": {},
   "outputs": [
    {
     "data": {
      "text/plain": [
       "{x: 4, y: 2}"
      ]
     },
     "execution_count": 25,
     "metadata": {},
     "output_type": "execute_result"
    }
   ],
   "source": [
    "solve ([eq5,eq6], [x,y])"
   ]
  },
  {
   "cell_type": "markdown",
   "id": "4662bb2d-ee64-4f54-a7ca-9a2785971816",
   "metadata": {},
   "source": [
    "Oppgave 2b"
   ]
  },
  {
   "cell_type": "code",
   "execution_count": 26,
   "id": "73eebd2e-c35c-4a67-ac45-f298150376c3",
   "metadata": {},
   "outputs": [
    {
     "data": {
      "text/latex": [
       "$\\displaystyle x - 2 y^{2} = 15$"
      ],
      "text/plain": [
       "Eq(x - 2*y**2, 15)"
      ]
     },
     "execution_count": 26,
     "metadata": {},
     "output_type": "execute_result"
    }
   ],
   "source": [
    "eq7=sp.Eq(x - 2*y**2,15)\n",
    "eq7"
   ]
  },
  {
   "cell_type": "code",
   "execution_count": 27,
   "id": "13dd2a11-bc2f-44b8-8f1a-eb922e1b4088",
   "metadata": {},
   "outputs": [
    {
     "data": {
      "text/latex": [
       "$\\displaystyle x^{2} - 4 y^{2} = 33$"
      ],
      "text/plain": [
       "Eq(x**2 - 4*y**2, 33)"
      ]
     },
     "execution_count": 27,
     "metadata": {},
     "output_type": "execute_result"
    }
   ],
   "source": [
    "eq8=sp.Eq(x**2 - 4*y**2,33)\n",
    "eq8"
   ]
  },
  {
   "cell_type": "code",
   "execution_count": 28,
   "id": "33cc0856-ea2f-4399-b36c-c3ae0447e764",
   "metadata": {},
   "outputs": [
    {
     "data": {
      "text/plain": [
       "[(-1, -2*sqrt(2)*I), (-1, 2*sqrt(2)*I), (3, -sqrt(6)*I), (3, sqrt(6)*I)]"
      ]
     },
     "execution_count": 28,
     "metadata": {},
     "output_type": "execute_result"
    }
   ],
   "source": [
    "solve ([eq7,eq8], [x,y])"
   ]
  },
  {
   "cell_type": "markdown",
   "id": "d2c59abf-13fc-48a4-96f7-1f3d008f4d21",
   "metadata": {},
   "source": [
    "# Likningsett 17\n",
    "Oppgave 1a"
   ]
  },
  {
   "cell_type": "code",
   "execution_count": 29,
   "id": "70c3199f-2126-4537-9013-50ad87fc8e6e",
   "metadata": {},
   "outputs": [],
   "source": [
    "import sympy as sy\n",
    "from sympy import rootof\n",
    "from sympy import root, Rational\n",
    "from sympy import diff, sin, exp\n"
   ]
  },
  {
   "cell_type": "code",
   "execution_count": 30,
   "id": "3a28b2a8-2116-48fa-9274-40dc2febe485",
   "metadata": {},
   "outputs": [
    {
     "data": {
      "text/latex": [
       "$\\displaystyle x y^{2} - x = 0$"
      ],
      "text/plain": [
       "Eq(x*y**2 - x, 0)"
      ]
     },
     "execution_count": 30,
     "metadata": {},
     "output_type": "execute_result"
    }
   ],
   "source": [
    "eq1=sp.Eq(x*y**2 - x,0)\n",
    "eq1"
   ]
  },
  {
   "cell_type": "code",
   "execution_count": 31,
   "id": "3ed7d4d7-ccb8-4b56-9300-689db355f841",
   "metadata": {},
   "outputs": [
    {
     "data": {
      "text/latex": [
       "$\\displaystyle x + y^{2} = 16$"
      ],
      "text/plain": [
       "Eq(x + y**2, 16)"
      ]
     },
     "execution_count": 31,
     "metadata": {},
     "output_type": "execute_result"
    }
   ],
   "source": [
    "eq2=sp.Eq(x + y**2,16)\n",
    "eq2"
   ]
  },
  {
   "cell_type": "code",
   "execution_count": 32,
   "id": "c0671a75-6e11-48ce-b30d-726c05439e74",
   "metadata": {},
   "outputs": [
    {
     "data": {
      "text/plain": [
       "[(0, -4), (0, 4), (15, -1), (15, 1)]"
      ]
     },
     "execution_count": 32,
     "metadata": {},
     "output_type": "execute_result"
    }
   ],
   "source": [
    "solve ([eq1,eq2], [x,y])"
   ]
  },
  {
   "cell_type": "markdown",
   "id": "7c6a235c-be85-4eed-bc9e-398716ad22d9",
   "metadata": {},
   "source": [
    "Oppgave2b"
   ]
  },
  {
   "cell_type": "code",
   "execution_count": 33,
   "id": "4352c55b-e826-4041-bcc3-0f249d689244",
   "metadata": {},
   "outputs": [
    {
     "data": {
      "text/latex": [
       "$\\displaystyle x^{2} + y^{2} = 100$"
      ],
      "text/plain": [
       "Eq(x**2 + y**2, 100)"
      ]
     },
     "execution_count": 33,
     "metadata": {},
     "output_type": "execute_result"
    }
   ],
   "source": [
    "eq3=sp.Eq(x**2 + y**2,100)\n",
    "eq3"
   ]
  },
  {
   "cell_type": "code",
   "execution_count": 34,
   "id": "82a6cbea-4200-42e9-89cf-76a235cd327f",
   "metadata": {},
   "outputs": [
    {
     "data": {
      "text/latex": [
       "$\\displaystyle x^{2} y + 36 y = 0$"
      ],
      "text/plain": [
       "Eq(x**2*y + 36*y, 0)"
      ]
     },
     "execution_count": 34,
     "metadata": {},
     "output_type": "execute_result"
    }
   ],
   "source": [
    "eq4=sp.Eq(x**2*y + 36*y,0)\n",
    "eq4"
   ]
  },
  {
   "cell_type": "code",
   "execution_count": 35,
   "id": "990995a5-0231-49a2-b198-ea7978a272a1",
   "metadata": {},
   "outputs": [
    {
     "data": {
      "text/plain": [
       "[(-10, 0),\n",
       " (10, 0),\n",
       " (-I*sqrt(-10 + 2*sqrt(34))*sqrt(10 + 2*sqrt(34)), -2*sqrt(34)),\n",
       " (-I*sqrt(-10 + 2*sqrt(34))*sqrt(10 + 2*sqrt(34)), 2*sqrt(34)),\n",
       " (I*sqrt(-10 + 2*sqrt(34))*sqrt(10 + 2*sqrt(34)), -2*sqrt(34)),\n",
       " (I*sqrt(-10 + 2*sqrt(34))*sqrt(10 + 2*sqrt(34)), 2*sqrt(34))]"
      ]
     },
     "execution_count": 35,
     "metadata": {},
     "output_type": "execute_result"
    }
   ],
   "source": [
    "solve ([eq3,eq4], [x,y])"
   ]
  },
  {
   "cell_type": "markdown",
   "id": "c2f41aac-ce7c-46e8-a96b-802846d56431",
   "metadata": {},
   "source": [
    "# Likningsett 19"
   ]
  },
  {
   "cell_type": "code",
   "execution_count": 36,
   "id": "e923c617-7dcf-473d-ac80-b3ba917218a0",
   "metadata": {},
   "outputs": [],
   "source": [
    "from sympy.tensor.array.array_derivatives import ArrayDerivative"
   ]
  },
  {
   "cell_type": "code",
   "execution_count": 37,
   "id": "d405a650-33dc-43a1-b5b1-fbecc43d4606",
   "metadata": {},
   "outputs": [],
   "source": [
    "#Oppgave 1a\n",
    "def f(x): return x**5"
   ]
  },
  {
   "cell_type": "code",
   "execution_count": 38,
   "id": "faf65458-7540-411b-9af2-4e8b3f1b9154",
   "metadata": {},
   "outputs": [],
   "source": [
    "x = sp.Symbol(\"x\")"
   ]
  },
  {
   "cell_type": "code",
   "execution_count": 39,
   "id": "78f99dd1-bde0-4000-a9aa-c8094ac2d5c7",
   "metadata": {},
   "outputs": [
    {
     "name": "stdout",
     "output_type": "stream",
     "text": [
      "   4\n",
      "5⋅x \n"
     ]
    }
   ],
   "source": [
    "sp.pprint(sp.diff(f(x), x))"
   ]
  },
  {
   "cell_type": "code",
   "execution_count": 40,
   "id": "f6ea86e3-2994-4268-b0f3-c40270edb979",
   "metadata": {},
   "outputs": [],
   "source": [
    "#Oppgave 1b\n",
    "def f(x): return x+12"
   ]
  },
  {
   "cell_type": "code",
   "execution_count": 41,
   "id": "2ae5fc50-f78c-4393-aca9-1e3860e42546",
   "metadata": {},
   "outputs": [],
   "source": [
    "x = sp.Symbol(\"x\")"
   ]
  },
  {
   "cell_type": "code",
   "execution_count": 42,
   "id": "7d771dd1-6604-4697-ae46-61b1b054a43d",
   "metadata": {},
   "outputs": [
    {
     "name": "stdout",
     "output_type": "stream",
     "text": [
      "1\n"
     ]
    }
   ],
   "source": [
    "sp.pprint(sp.diff(f(x), x))"
   ]
  },
  {
   "cell_type": "code",
   "execution_count": 43,
   "id": "8441acb9-fe82-49ca-9ccb-aa15c7e7a4e4",
   "metadata": {},
   "outputs": [],
   "source": [
    "#Oppgave 1c\n",
    "def f(x): return x**3+4*x**2"
   ]
  },
  {
   "cell_type": "code",
   "execution_count": 44,
   "id": "7481fdd1-2cc0-483f-b01b-627490dc9406",
   "metadata": {},
   "outputs": [],
   "source": [
    "x = sp.Symbol(\"x\")"
   ]
  },
  {
   "cell_type": "code",
   "execution_count": 45,
   "id": "99757ebf-1e13-46a4-a877-f742e47a6c76",
   "metadata": {},
   "outputs": [
    {
     "name": "stdout",
     "output_type": "stream",
     "text": [
      "   2      \n",
      "3⋅x  + 8⋅x\n"
     ]
    }
   ],
   "source": [
    "sp.pprint(sp.diff(f(x), x))"
   ]
  },
  {
   "cell_type": "code",
   "execution_count": 46,
   "id": "cf674e12-d01a-499a-b1da-53bc8d4d851d",
   "metadata": {},
   "outputs": [],
   "source": [
    "#Oppgave 1d\n",
    "def f(x): return 2*x**3 + 36"
   ]
  },
  {
   "cell_type": "code",
   "execution_count": 47,
   "id": "0eb9dbc8-40dd-4243-a333-a4c916079837",
   "metadata": {},
   "outputs": [],
   "source": [
    "x = sp.Symbol(\"x\")"
   ]
  },
  {
   "cell_type": "code",
   "execution_count": 48,
   "id": "d8795bb1-a50c-4ef7-8e49-ddebf8bbcbf5",
   "metadata": {},
   "outputs": [
    {
     "name": "stdout",
     "output_type": "stream",
     "text": [
      "   2\n",
      "6⋅x \n"
     ]
    }
   ],
   "source": [
    "sp.pprint(sp.diff(f(x), x))"
   ]
  },
  {
   "cell_type": "code",
   "execution_count": 49,
   "id": "90a89bc6-43c2-47b6-a591-47d173ef97d4",
   "metadata": {},
   "outputs": [],
   "source": [
    "#Oppgave 1e\n",
    "def f(x): return x + 5**2"
   ]
  },
  {
   "cell_type": "code",
   "execution_count": 50,
   "id": "083690fc-59fc-4169-b11b-32e5b6095697",
   "metadata": {},
   "outputs": [],
   "source": [
    "import math"
   ]
  },
  {
   "cell_type": "code",
   "execution_count": 51,
   "id": "a70b3e7e-5dde-48c5-bdda-b45dc4d2c359",
   "metadata": {},
   "outputs": [],
   "source": [
    "x = sp.Symbol(\"x\")"
   ]
  },
  {
   "cell_type": "code",
   "execution_count": 52,
   "id": "223262e9-ee87-4a31-8677-8333cb741ab4",
   "metadata": {},
   "outputs": [
    {
     "name": "stdout",
     "output_type": "stream",
     "text": [
      "1\n"
     ]
    }
   ],
   "source": [
    "sp.pprint(sp.diff(f(x), x))"
   ]
  },
  {
   "cell_type": "code",
   "execution_count": 53,
   "id": "94dedfd8-94a0-40fe-8d3d-5498fdb1c3fd",
   "metadata": {},
   "outputs": [],
   "source": [
    "#Oppgave 1f\n",
    "def f(x): return x**3 + 1 / x"
   ]
  },
  {
   "cell_type": "code",
   "execution_count": 54,
   "id": "e7ba316d-40f6-4686-b75b-5e2c1a9b2400",
   "metadata": {},
   "outputs": [],
   "source": [
    "x = sp.Symbol(\"x\")"
   ]
  },
  {
   "cell_type": "code",
   "execution_count": 55,
   "id": "ba34936a-d3cb-4bb2-b457-5baf0ffd6fa4",
   "metadata": {},
   "outputs": [
    {
     "name": "stdout",
     "output_type": "stream",
     "text": [
      "   2   1 \n",
      "3⋅x  - ──\n",
      "        2\n",
      "       x \n"
     ]
    }
   ],
   "source": [
    "sp.pprint(sp.diff(f(x), x))"
   ]
  },
  {
   "cell_type": "code",
   "execution_count": 56,
   "id": "883dde18-41ba-4ba9-85a8-4c07510821fc",
   "metadata": {},
   "outputs": [],
   "source": [
    "#Oppgave 1g\n",
    "def f(x): return x**3 - x**2 + 1 / 4 * x"
   ]
  },
  {
   "cell_type": "code",
   "execution_count": 57,
   "id": "ace55455-9478-44c0-9a73-dcb6640de404",
   "metadata": {},
   "outputs": [],
   "source": [
    "x = sp.Symbol(\"x\")"
   ]
  },
  {
   "cell_type": "code",
   "execution_count": 58,
   "id": "c060496c-8e4c-4422-b9a5-3014b2844bbe",
   "metadata": {},
   "outputs": [
    {
     "name": "stdout",
     "output_type": "stream",
     "text": [
      "   2             \n",
      "3⋅x  - 2⋅x + 0.25\n"
     ]
    },
    {
     "data": {
      "text/latex": [
       "$\\displaystyle 3 x^{2} - 2 x + 0.25$"
      ],
      "text/plain": [
       "3*x**2 - 2*x + 0.25"
      ]
     },
     "execution_count": 58,
     "metadata": {},
     "output_type": "execute_result"
    }
   ],
   "source": [
    "sp.pprint(sp.diff(f(x), x))\n",
    "sp.simplify(sp.diff(f(x), x))"
   ]
  },
  {
   "cell_type": "code",
   "execution_count": 59,
   "id": "a7624c88-979c-4066-9ed7-5de753133d26",
   "metadata": {},
   "outputs": [],
   "source": [
    "#Oppgave 2a\n",
    "def f(x): return 1 / x + 6*x**6"
   ]
  },
  {
   "cell_type": "code",
   "execution_count": 60,
   "id": "8de4ddb3-256f-4185-8782-a01a069ef19c",
   "metadata": {},
   "outputs": [],
   "source": [
    "x = sp.Symbol(\"x\")"
   ]
  },
  {
   "cell_type": "code",
   "execution_count": 61,
   "id": "ee2e4527-b0a4-4ecf-b014-88a55b76b47d",
   "metadata": {},
   "outputs": [
    {
     "name": "stdout",
     "output_type": "stream",
     "text": [
      "    5   1 \n",
      "36⋅x  - ──\n",
      "         2\n",
      "        x \n"
     ]
    }
   ],
   "source": [
    "sp.pprint(sp.diff(f(x), x))"
   ]
  },
  {
   "cell_type": "code",
   "execution_count": 62,
   "id": "0f8e3670-1857-44e2-9a2a-02779e7d9716",
   "metadata": {},
   "outputs": [],
   "source": [
    "#Oppgave 2b\n",
    "def f(x): return -x + 1 / 2 * x**3"
   ]
  },
  {
   "cell_type": "code",
   "execution_count": 63,
   "id": "a456b523-7d4b-43d6-bf8c-4656612cab5b",
   "metadata": {},
   "outputs": [],
   "source": [
    "x = sp.Symbol(\"x\")"
   ]
  },
  {
   "cell_type": "code",
   "execution_count": 64,
   "id": "880344bd-78a3-4490-b593-d1fe234beb46",
   "metadata": {},
   "outputs": [
    {
     "name": "stdout",
     "output_type": "stream",
     "text": [
      "     2    \n",
      "1.5⋅x  - 1\n"
     ]
    }
   ],
   "source": [
    "sp.pprint(sp.diff(f(x), x))"
   ]
  },
  {
   "cell_type": "code",
   "execution_count": 65,
   "id": "16537a7d-97ba-4105-8b57-5c90361ec476",
   "metadata": {},
   "outputs": [],
   "source": [
    "#Oppgave 2c\n",
    "def f(x): return x(x**2+2*x-3)"
   ]
  },
  {
   "cell_type": "code",
   "execution_count": 66,
   "id": "70a000e8-cea1-4bf2-ac44-134757bd630a",
   "metadata": {},
   "outputs": [],
   "source": [
    "x = sp.Symbol(\"x\")"
   ]
  },
  {
   "cell_type": "code",
   "execution_count": 67,
   "id": "618314dd-1a8e-457b-be57-c0c5aa300f47",
   "metadata": {},
   "outputs": [
    {
     "ename": "TypeError",
     "evalue": "'Symbol' object is not callable",
     "output_type": "error",
     "traceback": [
      "\u001b[0;31m---------------------------------------------------------------------------\u001b[0m",
      "\u001b[0;31mTypeError\u001b[0m                                 Traceback (most recent call last)",
      "\u001b[0;32m/tmp/ipykernel_41475/3975254386.py\u001b[0m in \u001b[0;36m<module>\u001b[0;34m\u001b[0m\n\u001b[0;32m----> 1\u001b[0;31m \u001b[0msp\u001b[0m\u001b[0;34m.\u001b[0m\u001b[0mpprint\u001b[0m\u001b[0;34m(\u001b[0m\u001b[0msp\u001b[0m\u001b[0;34m.\u001b[0m\u001b[0mdiff\u001b[0m\u001b[0;34m(\u001b[0m\u001b[0mf\u001b[0m\u001b[0;34m(\u001b[0m\u001b[0mx\u001b[0m\u001b[0;34m)\u001b[0m\u001b[0;34m,\u001b[0m \u001b[0mx\u001b[0m\u001b[0;34m)\u001b[0m\u001b[0;34m)\u001b[0m\u001b[0;34m\u001b[0m\u001b[0;34m\u001b[0m\u001b[0m\n\u001b[0m",
      "\u001b[0;32m/tmp/ipykernel_41475/1131186432.py\u001b[0m in \u001b[0;36mf\u001b[0;34m(x)\u001b[0m\n\u001b[1;32m      1\u001b[0m \u001b[0;31m#Oppgave 2c\u001b[0m\u001b[0;34m\u001b[0m\u001b[0;34m\u001b[0m\u001b[0;34m\u001b[0m\u001b[0m\n\u001b[0;32m----> 2\u001b[0;31m \u001b[0;32mdef\u001b[0m \u001b[0mf\u001b[0m\u001b[0;34m(\u001b[0m\u001b[0mx\u001b[0m\u001b[0;34m)\u001b[0m\u001b[0;34m:\u001b[0m \u001b[0;32mreturn\u001b[0m \u001b[0mx\u001b[0m\u001b[0;34m(\u001b[0m\u001b[0mx\u001b[0m\u001b[0;34m**\u001b[0m\u001b[0;36m2\u001b[0m\u001b[0;34m+\u001b[0m\u001b[0;36m2\u001b[0m\u001b[0;34m*\u001b[0m\u001b[0mx\u001b[0m\u001b[0;34m-\u001b[0m\u001b[0;36m3\u001b[0m\u001b[0;34m)\u001b[0m\u001b[0;34m\u001b[0m\u001b[0;34m\u001b[0m\u001b[0m\n\u001b[0m",
      "\u001b[0;31mTypeError\u001b[0m: 'Symbol' object is not callable"
     ]
    }
   ],
   "source": [
    "sp.pprint(sp.diff(f(x), x))"
   ]
  },
  {
   "cell_type": "markdown",
   "id": "178d2d5a-0bb2-4a6f-ad1e-664380c141b6",
   "metadata": {},
   "source": [
    "# Likningsett 21"
   ]
  },
  {
   "cell_type": "code",
   "execution_count": 68,
   "id": "a7a310a8-04c0-4fab-a433-4b0eebadc2e0",
   "metadata": {},
   "outputs": [],
   "source": [
    "def mysqrt(self, x: int) -> int:\n",
    "    import math\n",
    "    return int(math.sqrt(x))\n",
    "    return int(x**(1/2))\n",
    "\n",
    "from __future__ import division\n",
    "from sympy import *\n",
    "init_printing()\n",
    "\n",
    "from sympy import sqrt, simplify, count_ops, oo"
   ]
  },
  {
   "cell_type": "code",
   "execution_count": 69,
   "id": "82813164-53bf-4e17-bd55-fd851a8c7309",
   "metadata": {},
   "outputs": [],
   "source": [
    "import sympy as sp\n",
    "import numpy as np\n",
    "import matplotlib.pyplot as plt\n",
    "from sympy.solvers import solve\n",
    "from sympy import *\n",
    "\n",
    "x,y = sp.symbols('x y')\n",
    "\n",
    "\n",
    "\n",
    "\n",
    "\n"
   ]
  },
  {
   "cell_type": "code",
   "execution_count": 70,
   "id": "772fe3f4-46e0-4fb5-8836-0b0ae8ab5b72",
   "metadata": {},
   "outputs": [],
   "source": [
    "#Oppgave 1a"
   ]
  },
  {
   "cell_type": "code",
   "execution_count": 71,
   "id": "9ada335a-8896-4c31-8696-1d4fb5a4da7d",
   "metadata": {},
   "outputs": [],
   "source": [
    "def f(x): return x**3 + 6*x**5"
   ]
  },
  {
   "cell_type": "code",
   "execution_count": 72,
   "id": "4fceeb5c-52e6-4298-bf6f-35496a9efb6a",
   "metadata": {},
   "outputs": [
    {
     "name": "stdout",
     "output_type": "stream",
     "text": [
      "    4      2\n",
      "30⋅x  + 3⋅x \n"
     ]
    }
   ],
   "source": [
    "x = sp.Symbol(\"x\")\n",
    "sp.pprint(sp.diff(f(x), x))"
   ]
  },
  {
   "cell_type": "code",
   "execution_count": 73,
   "id": "9a422a72-b6ec-43f1-b7aa-58714cd3f1c3",
   "metadata": {},
   "outputs": [],
   "source": [
    "#Oppgave 1b"
   ]
  },
  {
   "cell_type": "code",
   "execution_count": 74,
   "id": "ef21485e-0a16-4d85-a226-95fb3045efef",
   "metadata": {},
   "outputs": [],
   "source": [
    "import sympy as sp\n",
    "\n",
    "x=sp.Symbol('x')"
   ]
  },
  {
   "cell_type": "code",
   "execution_count": 75,
   "id": "1c274ad6-6b83-41ed-b6c8-2930b03a6a2b",
   "metadata": {},
   "outputs": [
    {
     "name": "stderr",
     "output_type": "stream",
     "text": [
      "/usr/local/Miniconda3-py39_4.9.2-Linux-x86_64/lib/python3.9/site-packages/IPython/lib/latextools.py:126: MatplotlibDeprecationWarning: \n",
      "The to_png function was deprecated in Matplotlib 3.4 and will be removed two minor releases later. Use mathtext.math_to_image instead.\n",
      "  mt.to_png(f, s, fontsize=12, dpi=dpi, color=color)\n",
      "/usr/local/Miniconda3-py39_4.9.2-Linux-x86_64/lib/python3.9/site-packages/IPython/lib/latextools.py:126: MatplotlibDeprecationWarning: \n",
      "The to_rgba function was deprecated in Matplotlib 3.4 and will be removed two minor releases later. Use mathtext.math_to_image instead.\n",
      "  mt.to_png(f, s, fontsize=12, dpi=dpi, color=color)\n",
      "/usr/local/Miniconda3-py39_4.9.2-Linux-x86_64/lib/python3.9/site-packages/IPython/lib/latextools.py:126: MatplotlibDeprecationWarning: \n",
      "The to_mask function was deprecated in Matplotlib 3.4 and will be removed two minor releases later. Use mathtext.math_to_image instead.\n",
      "  mt.to_png(f, s, fontsize=12, dpi=dpi, color=color)\n",
      "/usr/local/Miniconda3-py39_4.9.2-Linux-x86_64/lib/python3.9/site-packages/IPython/lib/latextools.py:126: MatplotlibDeprecationWarning: \n",
      "The MathtextBackendBitmap class was deprecated in Matplotlib 3.4 and will be removed two minor releases later. Use mathtext.math_to_image instead.\n",
      "  mt.to_png(f, s, fontsize=12, dpi=dpi, color=color)\n"
     ]
    },
    {
     "data": {
      "image/png": "[encoded data removed]",
      "text/latex": [
       "$\\displaystyle \\frac{2 x}{\\sqrt{2 x^{2} + 5}}$"
      ],
      "text/plain": [
       "     2⋅x     \n",
       "─────────────\n",
       "   __________\n",
       "  ╱    2     \n",
       "╲╱  2⋅x  + 5 "
      ]
     },
     "execution_count": 75,
     "metadata": {},
     "output_type": "execute_result"
    }
   ],
   "source": [
    "ur = sp.diff(sp.sqrt(2*x**2+5))\n",
    "simplify(ur)"
   ]
  },
  {
   "cell_type": "markdown",
   "id": "6adf1e08-627d-4dcb-b58c-e06fe177e0ee",
   "metadata": {},
   "source": [
    "Oppgave 1c"
   ]
  },
  {
   "cell_type": "code",
   "execution_count": 76,
   "id": "1c211f52-80bf-48d8-a02e-334e6645e3de",
   "metadata": {},
   "outputs": [
    {
     "name": "stderr",
     "output_type": "stream",
     "text": [
      "/usr/local/Miniconda3-py39_4.9.2-Linux-x86_64/lib/python3.9/site-packages/IPython/lib/latextools.py:126: MatplotlibDeprecationWarning: \n",
      "The to_png function was deprecated in Matplotlib 3.4 and will be removed two minor releases later. Use mathtext.math_to_image instead.\n",
      "  mt.to_png(f, s, fontsize=12, dpi=dpi, color=color)\n",
      "/usr/local/Miniconda3-py39_4.9.2-Linux-x86_64/lib/python3.9/site-packages/IPython/lib/latextools.py:126: MatplotlibDeprecationWarning: \n",
      "The to_rgba function was deprecated in Matplotlib 3.4 and will be removed two minor releases later. Use mathtext.math_to_image instead.\n",
      "  mt.to_png(f, s, fontsize=12, dpi=dpi, color=color)\n",
      "/usr/local/Miniconda3-py39_4.9.2-Linux-x86_64/lib/python3.9/site-packages/IPython/lib/latextools.py:126: MatplotlibDeprecationWarning: \n",
      "The to_mask function was deprecated in Matplotlib 3.4 and will be removed two minor releases later. Use mathtext.math_to_image instead.\n",
      "  mt.to_png(f, s, fontsize=12, dpi=dpi, color=color)\n",
      "/usr/local/Miniconda3-py39_4.9.2-Linux-x86_64/lib/python3.9/site-packages/IPython/lib/latextools.py:126: MatplotlibDeprecationWarning: \n",
      "The MathtextBackendBitmap class was deprecated in Matplotlib 3.4 and will be removed two minor releases later. Use mathtext.math_to_image instead.\n",
      "  mt.to_png(f, s, fontsize=12, dpi=dpi, color=color)\n"
     ]
    },
    {
     "data": {
      "image/png": "[encoded data removed]",
      "text/latex": [
       "$\\displaystyle \\frac{2 \\left(3 - 7 x^{2}\\right)}{\\left(x^{2} + 3\\right)^{5}}$"
      ],
      "text/plain": [
       "  ⎛       2⎞\n",
       "2⋅⎝3 - 7⋅x ⎠\n",
       "────────────\n",
       "         5  \n",
       " ⎛ 2    ⎞   \n",
       " ⎝x  + 3⎠   "
      ]
     },
     "execution_count": 76,
     "metadata": {},
     "output_type": "execute_result"
    }
   ],
   "source": [
    "ir = sp.diff((2*x)/(x**2+3)**4)\n",
    "simplify(ir)"
   ]
  },
  {
   "cell_type": "markdown",
   "id": "e60dff2e-f694-43aa-a8e6-68e836ec18ae",
   "metadata": {},
   "source": [
    "oppgave 1d"
   ]
  },
  {
   "cell_type": "code",
   "execution_count": 77,
   "id": "d38af315-6320-422c-8bc6-b6846c743039",
   "metadata": {},
   "outputs": [
    {
     "name": "stderr",
     "output_type": "stream",
     "text": [
      "/usr/local/Miniconda3-py39_4.9.2-Linux-x86_64/lib/python3.9/site-packages/IPython/lib/latextools.py:126: MatplotlibDeprecationWarning: \n",
      "The to_png function was deprecated in Matplotlib 3.4 and will be removed two minor releases later. Use mathtext.math_to_image instead.\n",
      "  mt.to_png(f, s, fontsize=12, dpi=dpi, color=color)\n",
      "/usr/local/Miniconda3-py39_4.9.2-Linux-x86_64/lib/python3.9/site-packages/IPython/lib/latextools.py:126: MatplotlibDeprecationWarning: \n",
      "The to_rgba function was deprecated in Matplotlib 3.4 and will be removed two minor releases later. Use mathtext.math_to_image instead.\n",
      "  mt.to_png(f, s, fontsize=12, dpi=dpi, color=color)\n",
      "/usr/local/Miniconda3-py39_4.9.2-Linux-x86_64/lib/python3.9/site-packages/IPython/lib/latextools.py:126: MatplotlibDeprecationWarning: \n",
      "The to_mask function was deprecated in Matplotlib 3.4 and will be removed two minor releases later. Use mathtext.math_to_image instead.\n",
      "  mt.to_png(f, s, fontsize=12, dpi=dpi, color=color)\n",
      "/usr/local/Miniconda3-py39_4.9.2-Linux-x86_64/lib/python3.9/site-packages/IPython/lib/latextools.py:126: MatplotlibDeprecationWarning: \n",
      "The MathtextBackendBitmap class was deprecated in Matplotlib 3.4 and will be removed two minor releases later. Use mathtext.math_to_image instead.\n",
      "  mt.to_png(f, s, fontsize=12, dpi=dpi, color=color)\n"
     ]
    },
    {
     "data": {
      "image/png": "[encoded data removed]",
      "text/latex": [
       "$\\displaystyle 12 x^{3} \\left(2 x^{4} + 9\\right)^{2}$"
      ],
      "text/plain": [
       "                2\n",
       "    3 ⎛   4    ⎞ \n",
       "12⋅x ⋅⎝2⋅x  + 9⎠ "
      ]
     },
     "execution_count": 77,
     "metadata": {},
     "output_type": "execute_result"
    }
   ],
   "source": [
    "ie = sp.diff((2*x**4 + 9)**3/2)\n",
    "simplify(ie)"
   ]
  },
  {
   "cell_type": "markdown",
   "id": "8ec74eed-3de7-48c1-bda4-a35000020561",
   "metadata": {},
   "source": [
    "Oppgave 1e"
   ]
  },
  {
   "cell_type": "code",
   "execution_count": 78,
   "id": "11c4d658-a7e8-4220-87c9-43fb794e0d68",
   "metadata": {},
   "outputs": [
    {
     "name": "stderr",
     "output_type": "stream",
     "text": [
      "/usr/local/Miniconda3-py39_4.9.2-Linux-x86_64/lib/python3.9/site-packages/IPython/lib/latextools.py:126: MatplotlibDeprecationWarning: \n",
      "The to_png function was deprecated in Matplotlib 3.4 and will be removed two minor releases later. Use mathtext.math_to_image instead.\n",
      "  mt.to_png(f, s, fontsize=12, dpi=dpi, color=color)\n",
      "/usr/local/Miniconda3-py39_4.9.2-Linux-x86_64/lib/python3.9/site-packages/IPython/lib/latextools.py:126: MatplotlibDeprecationWarning: \n",
      "The to_rgba function was deprecated in Matplotlib 3.4 and will be removed two minor releases later. Use mathtext.math_to_image instead.\n",
      "  mt.to_png(f, s, fontsize=12, dpi=dpi, color=color)\n",
      "/usr/local/Miniconda3-py39_4.9.2-Linux-x86_64/lib/python3.9/site-packages/IPython/lib/latextools.py:126: MatplotlibDeprecationWarning: \n",
      "The to_mask function was deprecated in Matplotlib 3.4 and will be removed two minor releases later. Use mathtext.math_to_image instead.\n",
      "  mt.to_png(f, s, fontsize=12, dpi=dpi, color=color)\n",
      "/usr/local/Miniconda3-py39_4.9.2-Linux-x86_64/lib/python3.9/site-packages/IPython/lib/latextools.py:126: MatplotlibDeprecationWarning: \n",
      "The MathtextBackendBitmap class was deprecated in Matplotlib 3.4 and will be removed two minor releases later. Use mathtext.math_to_image instead.\n",
      "  mt.to_png(f, s, fontsize=12, dpi=dpi, color=color)\n"
     ]
    },
    {
     "data": {
      "image/png": "[encoded data removed]",
      "text/latex": [
       "$\\displaystyle \\frac{x}{2 \\sqrt{x^{2} + 1}}$"
      ],
      "text/plain": [
       "      x      \n",
       "─────────────\n",
       "     ________\n",
       "    ╱  2     \n",
       "2⋅╲╱  x  + 1 "
      ]
     },
     "execution_count": 78,
     "metadata": {},
     "output_type": "execute_result"
    }
   ],
   "source": [
    "sp.diff(sp.sqrt(1+x**2)**1/2)"
   ]
  },
  {
   "cell_type": "markdown",
   "id": "18d363ad-99e8-44ad-b5f0-2b9ee17c21da",
   "metadata": {},
   "source": [
    "Oppgave 1f"
   ]
  },
  {
   "cell_type": "code",
   "execution_count": 79,
   "id": "ed71aafb-2ecc-4b16-819a-43436a193133",
   "metadata": {},
   "outputs": [
    {
     "name": "stderr",
     "output_type": "stream",
     "text": [
      "/usr/local/Miniconda3-py39_4.9.2-Linux-x86_64/lib/python3.9/site-packages/IPython/lib/latextools.py:126: MatplotlibDeprecationWarning: \n",
      "The to_png function was deprecated in Matplotlib 3.4 and will be removed two minor releases later. Use mathtext.math_to_image instead.\n",
      "  mt.to_png(f, s, fontsize=12, dpi=dpi, color=color)\n",
      "/usr/local/Miniconda3-py39_4.9.2-Linux-x86_64/lib/python3.9/site-packages/IPython/lib/latextools.py:126: MatplotlibDeprecationWarning: \n",
      "The to_rgba function was deprecated in Matplotlib 3.4 and will be removed two minor releases later. Use mathtext.math_to_image instead.\n",
      "  mt.to_png(f, s, fontsize=12, dpi=dpi, color=color)\n",
      "/usr/local/Miniconda3-py39_4.9.2-Linux-x86_64/lib/python3.9/site-packages/IPython/lib/latextools.py:126: MatplotlibDeprecationWarning: \n",
      "The to_mask function was deprecated in Matplotlib 3.4 and will be removed two minor releases later. Use mathtext.math_to_image instead.\n",
      "  mt.to_png(f, s, fontsize=12, dpi=dpi, color=color)\n",
      "/usr/local/Miniconda3-py39_4.9.2-Linux-x86_64/lib/python3.9/site-packages/IPython/lib/latextools.py:126: MatplotlibDeprecationWarning: \n",
      "The MathtextBackendBitmap class was deprecated in Matplotlib 3.4 and will be removed two minor releases later. Use mathtext.math_to_image instead.\n",
      "  mt.to_png(f, s, fontsize=12, dpi=dpi, color=color)\n"
     ]
    },
    {
     "data": {
      "image/png": "[encoded data removed]",
      "text/latex": [
       "$\\displaystyle x^{4} \\left(x + 2\\right)^{2} \\left(8 x + 10\\right)$"
      ],
      "text/plain": [
       " 4        2           \n",
       "x ⋅(x + 2) ⋅(8⋅x + 10)"
      ]
     },
     "execution_count": 79,
     "metadata": {},
     "output_type": "execute_result"
    }
   ],
   "source": [
    "p =sp.diff (x**2*(x**2+2*x)**3)\n",
    "simplify(p)"
   ]
  },
  {
   "cell_type": "markdown",
   "id": "45d30971-146a-4dc3-b222-06bff5bb421a",
   "metadata": {},
   "source": [
    "Oppgave 1g"
   ]
  },
  {
   "cell_type": "code",
   "execution_count": 80,
   "id": "f4a73845-f255-4484-b70b-fda937ee49c4",
   "metadata": {},
   "outputs": [
    {
     "name": "stderr",
     "output_type": "stream",
     "text": [
      "/usr/local/Miniconda3-py39_4.9.2-Linux-x86_64/lib/python3.9/site-packages/IPython/lib/latextools.py:126: MatplotlibDeprecationWarning: \n",
      "The to_png function was deprecated in Matplotlib 3.4 and will be removed two minor releases later. Use mathtext.math_to_image instead.\n",
      "  mt.to_png(f, s, fontsize=12, dpi=dpi, color=color)\n",
      "/usr/local/Miniconda3-py39_4.9.2-Linux-x86_64/lib/python3.9/site-packages/IPython/lib/latextools.py:126: MatplotlibDeprecationWarning: \n",
      "The to_rgba function was deprecated in Matplotlib 3.4 and will be removed two minor releases later. Use mathtext.math_to_image instead.\n",
      "  mt.to_png(f, s, fontsize=12, dpi=dpi, color=color)\n",
      "/usr/local/Miniconda3-py39_4.9.2-Linux-x86_64/lib/python3.9/site-packages/IPython/lib/latextools.py:126: MatplotlibDeprecationWarning: \n",
      "The to_mask function was deprecated in Matplotlib 3.4 and will be removed two minor releases later. Use mathtext.math_to_image instead.\n",
      "  mt.to_png(f, s, fontsize=12, dpi=dpi, color=color)\n",
      "/usr/local/Miniconda3-py39_4.9.2-Linux-x86_64/lib/python3.9/site-packages/IPython/lib/latextools.py:126: MatplotlibDeprecationWarning: \n",
      "The MathtextBackendBitmap class was deprecated in Matplotlib 3.4 and will be removed two minor releases later. Use mathtext.math_to_image instead.\n",
      "  mt.to_png(f, s, fontsize=12, dpi=dpi, color=color)\n"
     ]
    },
    {
     "data": {
      "image/png": "[encoded data removed]",
      "text/latex": [
       "$\\displaystyle \\left(3 x - 4\\right) \\sqrt{x^{2}}$"
      ],
      "text/plain": [
       "             ____\n",
       "            ╱  2 \n",
       "(3⋅x - 4)⋅╲╱  x  "
      ]
     },
     "execution_count": 80,
     "metadata": {},
     "output_type": "execute_result"
    }
   ],
   "source": [
    "q = sp.diff(sp.sqrt (x**2) * (x**2-2*x))\n",
    "simplify(q)"
   ]
  },
  {
   "cell_type": "code",
   "execution_count": 81,
   "id": "aa19cf92-663c-4b8f-b284-dcf64ff19185",
   "metadata": {},
   "outputs": [
    {
     "name": "stderr",
     "output_type": "stream",
     "text": [
      "/usr/local/Miniconda3-py39_4.9.2-Linux-x86_64/lib/python3.9/site-packages/IPython/lib/latextools.py:126: MatplotlibDeprecationWarning: \n",
      "The to_png function was deprecated in Matplotlib 3.4 and will be removed two minor releases later. Use mathtext.math_to_image instead.\n",
      "  mt.to_png(f, s, fontsize=12, dpi=dpi, color=color)\n",
      "/usr/local/Miniconda3-py39_4.9.2-Linux-x86_64/lib/python3.9/site-packages/IPython/lib/latextools.py:126: MatplotlibDeprecationWarning: \n",
      "The to_rgba function was deprecated in Matplotlib 3.4 and will be removed two minor releases later. Use mathtext.math_to_image instead.\n",
      "  mt.to_png(f, s, fontsize=12, dpi=dpi, color=color)\n",
      "/usr/local/Miniconda3-py39_4.9.2-Linux-x86_64/lib/python3.9/site-packages/IPython/lib/latextools.py:126: MatplotlibDeprecationWarning: \n",
      "The to_mask function was deprecated in Matplotlib 3.4 and will be removed two minor releases later. Use mathtext.math_to_image instead.\n",
      "  mt.to_png(f, s, fontsize=12, dpi=dpi, color=color)\n",
      "/usr/local/Miniconda3-py39_4.9.2-Linux-x86_64/lib/python3.9/site-packages/IPython/lib/latextools.py:126: MatplotlibDeprecationWarning: \n",
      "The MathtextBackendBitmap class was deprecated in Matplotlib 3.4 and will be removed two minor releases later. Use mathtext.math_to_image instead.\n",
      "  mt.to_png(f, s, fontsize=12, dpi=dpi, color=color)\n"
     ]
    },
    {
     "data": {
      "image/png": "[encoded data removed]",
      "text/latex": [
       "$\\displaystyle \\frac{x^{2} \\left(3 x - 5\\right)}{\\sqrt{x \\left(x - 2\\right)}}$"
      ],
      "text/plain": [
       "  2          \n",
       " x ⋅(3⋅x - 5)\n",
       "─────────────\n",
       "  ___________\n",
       "╲╱ x⋅(x - 2) "
      ]
     },
     "execution_count": 81,
     "metadata": {},
     "output_type": "execute_result"
    }
   ],
   "source": [
    "okk=sp.diff(x**2 *sp.sqrt(x**2-2*x))\n",
    "simplify(okk)"
   ]
  },
  {
   "cell_type": "markdown",
   "id": "94fd40ea-bfa8-4a67-a0e1-3232a2df5775",
   "metadata": {},
   "source": [
    "Oppgave 1h"
   ]
  },
  {
   "cell_type": "code",
   "execution_count": 82,
   "id": "a9745c39-a93f-4c51-9ab3-efa01888dd5e",
   "metadata": {},
   "outputs": [
    {
     "name": "stderr",
     "output_type": "stream",
     "text": [
      "/usr/local/Miniconda3-py39_4.9.2-Linux-x86_64/lib/python3.9/site-packages/IPython/lib/latextools.py:126: MatplotlibDeprecationWarning: \n",
      "The to_png function was deprecated in Matplotlib 3.4 and will be removed two minor releases later. Use mathtext.math_to_image instead.\n",
      "  mt.to_png(f, s, fontsize=12, dpi=dpi, color=color)\n",
      "/usr/local/Miniconda3-py39_4.9.2-Linux-x86_64/lib/python3.9/site-packages/IPython/lib/latextools.py:126: MatplotlibDeprecationWarning: \n",
      "The to_rgba function was deprecated in Matplotlib 3.4 and will be removed two minor releases later. Use mathtext.math_to_image instead.\n",
      "  mt.to_png(f, s, fontsize=12, dpi=dpi, color=color)\n",
      "/usr/local/Miniconda3-py39_4.9.2-Linux-x86_64/lib/python3.9/site-packages/IPython/lib/latextools.py:126: MatplotlibDeprecationWarning: \n",
      "The to_mask function was deprecated in Matplotlib 3.4 and will be removed two minor releases later. Use mathtext.math_to_image instead.\n",
      "  mt.to_png(f, s, fontsize=12, dpi=dpi, color=color)\n",
      "/usr/local/Miniconda3-py39_4.9.2-Linux-x86_64/lib/python3.9/site-packages/IPython/lib/latextools.py:126: MatplotlibDeprecationWarning: \n",
      "The MathtextBackendBitmap class was deprecated in Matplotlib 3.4 and will be removed two minor releases later. Use mathtext.math_to_image instead.\n",
      "  mt.to_png(f, s, fontsize=12, dpi=dpi, color=color)\n"
     ]
    },
    {
     "data": {
      "image/png": "[encoded data removed]",
      "text/latex": [
       "$\\displaystyle \\frac{x^{2} \\left(- 3 x^{2} - 2 x\\right)}{2 \\left(x^{3} + x^{2}\\right)^{2}} + \\frac{x}{x^{3} + x^{2}}$"
      ],
      "text/plain": [
       " 2 ⎛     2      ⎞          \n",
       "x ⋅⎝- 3⋅x  - 2⋅x⎠      x   \n",
       "───────────────── + ───────\n",
       "              2      3    2\n",
       "     ⎛ 3    2⎞      x  + x \n",
       "   2⋅⎝x  + x ⎠             "
      ]
     },
     "execution_count": 82,
     "metadata": {},
     "output_type": "execute_result"
    }
   ],
   "source": [
    "sp.diff(x**2 / (x**2+x**3)**1/2)"
   ]
  },
  {
   "cell_type": "markdown",
   "id": "8869f3f4-f0f0-42cb-a0f3-deef4ebb7608",
   "metadata": {},
   "source": [
    "Oppgave 1i"
   ]
  },
  {
   "cell_type": "code",
   "execution_count": 83,
   "id": "40c515f8-f42d-47b5-aac3-dbdf8c7d5dff",
   "metadata": {},
   "outputs": [
    {
     "name": "stderr",
     "output_type": "stream",
     "text": [
      "/usr/local/Miniconda3-py39_4.9.2-Linux-x86_64/lib/python3.9/site-packages/IPython/lib/latextools.py:126: MatplotlibDeprecationWarning: \n",
      "The to_png function was deprecated in Matplotlib 3.4 and will be removed two minor releases later. Use mathtext.math_to_image instead.\n",
      "  mt.to_png(f, s, fontsize=12, dpi=dpi, color=color)\n",
      "/usr/local/Miniconda3-py39_4.9.2-Linux-x86_64/lib/python3.9/site-packages/IPython/lib/latextools.py:126: MatplotlibDeprecationWarning: \n",
      "The to_rgba function was deprecated in Matplotlib 3.4 and will be removed two minor releases later. Use mathtext.math_to_image instead.\n",
      "  mt.to_png(f, s, fontsize=12, dpi=dpi, color=color)\n",
      "/usr/local/Miniconda3-py39_4.9.2-Linux-x86_64/lib/python3.9/site-packages/IPython/lib/latextools.py:126: MatplotlibDeprecationWarning: \n",
      "The to_mask function was deprecated in Matplotlib 3.4 and will be removed two minor releases later. Use mathtext.math_to_image instead.\n",
      "  mt.to_png(f, s, fontsize=12, dpi=dpi, color=color)\n",
      "/usr/local/Miniconda3-py39_4.9.2-Linux-x86_64/lib/python3.9/site-packages/IPython/lib/latextools.py:126: MatplotlibDeprecationWarning: \n",
      "The MathtextBackendBitmap class was deprecated in Matplotlib 3.4 and will be removed two minor releases later. Use mathtext.math_to_image instead.\n",
      "  mt.to_png(f, s, fontsize=12, dpi=dpi, color=color)\n"
     ]
    },
    {
     "data": {
      "image/png": "[encoded data removed]",
      "text/latex": [
       "$\\displaystyle x \\left(x^{2} + 1\\right) \\left(x^{3} + 1\\right)^{2} \\left(4 x^{3} + 9 x \\left(x^{2} + 1\\right) + 4\\right)$"
      ],
      "text/plain": [
       "                   2                          \n",
       "  ⎛ 2    ⎞ ⎛ 3    ⎞  ⎛   3       ⎛ 2    ⎞    ⎞\n",
       "x⋅⎝x  + 1⎠⋅⎝x  + 1⎠ ⋅⎝4⋅x  + 9⋅x⋅⎝x  + 1⎠ + 4⎠"
      ]
     },
     "execution_count": 83,
     "metadata": {},
     "output_type": "execute_result"
    }
   ],
   "source": [
    "ag = sp.diff((x**2 + 1)**2 * (x**3+1)**3)\n",
    "simplify(ag)"
   ]
  },
  {
   "cell_type": "markdown",
   "id": "e2bfd5c8-c37a-4735-9c3f-ebea65947a79",
   "metadata": {},
   "source": [
    "# Oppgave 2"
   ]
  },
  {
   "cell_type": "code",
   "execution_count": 84,
   "id": "afe8e06a-cd05-4e3a-9a22-5ece81a4c242",
   "metadata": {},
   "outputs": [
    {
     "name": "stderr",
     "output_type": "stream",
     "text": [
      "/usr/local/Miniconda3-py39_4.9.2-Linux-x86_64/lib/python3.9/site-packages/IPython/lib/latextools.py:126: MatplotlibDeprecationWarning: \n",
      "The to_png function was deprecated in Matplotlib 3.4 and will be removed two minor releases later. Use mathtext.math_to_image instead.\n",
      "  mt.to_png(f, s, fontsize=12, dpi=dpi, color=color)\n",
      "/usr/local/Miniconda3-py39_4.9.2-Linux-x86_64/lib/python3.9/site-packages/IPython/lib/latextools.py:126: MatplotlibDeprecationWarning: \n",
      "The to_rgba function was deprecated in Matplotlib 3.4 and will be removed two minor releases later. Use mathtext.math_to_image instead.\n",
      "  mt.to_png(f, s, fontsize=12, dpi=dpi, color=color)\n",
      "/usr/local/Miniconda3-py39_4.9.2-Linux-x86_64/lib/python3.9/site-packages/IPython/lib/latextools.py:126: MatplotlibDeprecationWarning: \n",
      "The to_mask function was deprecated in Matplotlib 3.4 and will be removed two minor releases later. Use mathtext.math_to_image instead.\n",
      "  mt.to_png(f, s, fontsize=12, dpi=dpi, color=color)\n",
      "/usr/local/Miniconda3-py39_4.9.2-Linux-x86_64/lib/python3.9/site-packages/IPython/lib/latextools.py:126: MatplotlibDeprecationWarning: \n",
      "The MathtextBackendBitmap class was deprecated in Matplotlib 3.4 and will be removed two minor releases later. Use mathtext.math_to_image instead.\n",
      "  mt.to_png(f, s, fontsize=12, dpi=dpi, color=color)\n"
     ]
    },
    {
     "data": {
      "image/png": "[encoded data removed]",
      "text/latex": [
       "$\\displaystyle \\left(12 x + 4\\right) \\left(3 x^{2} + 2 x\\right)$"
      ],
      "text/plain": [
       "           ⎛   2      ⎞\n",
       "(12⋅x + 4)⋅⎝3⋅x  + 2⋅x⎠"
      ]
     },
     "execution_count": 84,
     "metadata": {},
     "output_type": "execute_result"
    }
   ],
   "source": [
    "#Oppgave 2a.\n",
    "sp.diff(sp.sqrt(3*x**2 + 2*x)**4)\n"
   ]
  },
  {
   "cell_type": "code",
   "execution_count": 85,
   "id": "89a7683b-97ac-4e36-925c-5f042bb3d640",
   "metadata": {},
   "outputs": [
    {
     "name": "stderr",
     "output_type": "stream",
     "text": [
      "/usr/local/Miniconda3-py39_4.9.2-Linux-x86_64/lib/python3.9/site-packages/IPython/lib/latextools.py:126: MatplotlibDeprecationWarning: \n",
      "The to_png function was deprecated in Matplotlib 3.4 and will be removed two minor releases later. Use mathtext.math_to_image instead.\n",
      "  mt.to_png(f, s, fontsize=12, dpi=dpi, color=color)\n",
      "/usr/local/Miniconda3-py39_4.9.2-Linux-x86_64/lib/python3.9/site-packages/IPython/lib/latextools.py:126: MatplotlibDeprecationWarning: \n",
      "The to_rgba function was deprecated in Matplotlib 3.4 and will be removed two minor releases later. Use mathtext.math_to_image instead.\n",
      "  mt.to_png(f, s, fontsize=12, dpi=dpi, color=color)\n",
      "/usr/local/Miniconda3-py39_4.9.2-Linux-x86_64/lib/python3.9/site-packages/IPython/lib/latextools.py:126: MatplotlibDeprecationWarning: \n",
      "The to_mask function was deprecated in Matplotlib 3.4 and will be removed two minor releases later. Use mathtext.math_to_image instead.\n",
      "  mt.to_png(f, s, fontsize=12, dpi=dpi, color=color)\n",
      "/usr/local/Miniconda3-py39_4.9.2-Linux-x86_64/lib/python3.9/site-packages/IPython/lib/latextools.py:126: MatplotlibDeprecationWarning: \n",
      "The MathtextBackendBitmap class was deprecated in Matplotlib 3.4 and will be removed two minor releases later. Use mathtext.math_to_image instead.\n",
      "  mt.to_png(f, s, fontsize=12, dpi=dpi, color=color)\n"
     ]
    },
    {
     "data": {
      "image/png": "[encoded data removed]",
      "text/latex": [
       "$\\displaystyle \\left(3 x^{2} + 486 x\\right)^{4}$"
      ],
      "text/plain": [
       "              4\n",
       "⎛   2        ⎞ \n",
       "⎝3⋅x  + 486⋅x⎠ "
      ]
     },
     "execution_count": 85,
     "metadata": {},
     "output_type": "execute_result"
    }
   ],
   "source": [
    "#Oppgave 2b.\n",
    "sp.diff(x**3+3**5 * x**2+3)**4\n"
   ]
  },
  {
   "cell_type": "code",
   "execution_count": 86,
   "id": "1693613e-eba3-42bc-b21f-5a24179198dd",
   "metadata": {},
   "outputs": [
    {
     "name": "stderr",
     "output_type": "stream",
     "text": [
      "/usr/local/Miniconda3-py39_4.9.2-Linux-x86_64/lib/python3.9/site-packages/IPython/lib/latextools.py:126: MatplotlibDeprecationWarning: \n",
      "The to_png function was deprecated in Matplotlib 3.4 and will be removed two minor releases later. Use mathtext.math_to_image instead.\n",
      "  mt.to_png(f, s, fontsize=12, dpi=dpi, color=color)\n",
      "/usr/local/Miniconda3-py39_4.9.2-Linux-x86_64/lib/python3.9/site-packages/IPython/lib/latextools.py:126: MatplotlibDeprecationWarning: \n",
      "The to_rgba function was deprecated in Matplotlib 3.4 and will be removed two minor releases later. Use mathtext.math_to_image instead.\n",
      "  mt.to_png(f, s, fontsize=12, dpi=dpi, color=color)\n",
      "/usr/local/Miniconda3-py39_4.9.2-Linux-x86_64/lib/python3.9/site-packages/IPython/lib/latextools.py:126: MatplotlibDeprecationWarning: \n",
      "The to_mask function was deprecated in Matplotlib 3.4 and will be removed two minor releases later. Use mathtext.math_to_image instead.\n",
      "  mt.to_png(f, s, fontsize=12, dpi=dpi, color=color)\n",
      "/usr/local/Miniconda3-py39_4.9.2-Linux-x86_64/lib/python3.9/site-packages/IPython/lib/latextools.py:126: MatplotlibDeprecationWarning: \n",
      "The MathtextBackendBitmap class was deprecated in Matplotlib 3.4 and will be removed two minor releases later. Use mathtext.math_to_image instead.\n",
      "  mt.to_png(f, s, fontsize=12, dpi=dpi, color=color)\n"
     ]
    },
    {
     "data": {
      "image/png": "[encoded data removed]",
      "text/latex": [
       "$\\displaystyle \\frac{\\sqrt{2} \\sqrt{x^{2}}}{x}$"
      ],
      "text/plain": [
       "      ____\n",
       "     ╱  2 \n",
       "√2⋅╲╱  x  \n",
       "──────────\n",
       "    x     "
      ]
     },
     "execution_count": 86,
     "metadata": {},
     "output_type": "execute_result"
    }
   ],
   "source": [
    "#oppgave 1c\n",
    "sp.diff(sp.sqrt(x**2+1*x**2))\n"
   ]
  },
  {
   "cell_type": "code",
   "execution_count": 87,
   "id": "0af7bc0d-33a3-4ad3-adf5-ed3ba6bd10e3",
   "metadata": {},
   "outputs": [
    {
     "name": "stderr",
     "output_type": "stream",
     "text": [
      "/usr/local/Miniconda3-py39_4.9.2-Linux-x86_64/lib/python3.9/site-packages/IPython/lib/latextools.py:126: MatplotlibDeprecationWarning: \n",
      "The to_png function was deprecated in Matplotlib 3.4 and will be removed two minor releases later. Use mathtext.math_to_image instead.\n",
      "  mt.to_png(f, s, fontsize=12, dpi=dpi, color=color)\n",
      "/usr/local/Miniconda3-py39_4.9.2-Linux-x86_64/lib/python3.9/site-packages/IPython/lib/latextools.py:126: MatplotlibDeprecationWarning: \n",
      "The to_rgba function was deprecated in Matplotlib 3.4 and will be removed two minor releases later. Use mathtext.math_to_image instead.\n",
      "  mt.to_png(f, s, fontsize=12, dpi=dpi, color=color)\n",
      "/usr/local/Miniconda3-py39_4.9.2-Linux-x86_64/lib/python3.9/site-packages/IPython/lib/latextools.py:126: MatplotlibDeprecationWarning: \n",
      "The to_mask function was deprecated in Matplotlib 3.4 and will be removed two minor releases later. Use mathtext.math_to_image instead.\n",
      "  mt.to_png(f, s, fontsize=12, dpi=dpi, color=color)\n",
      "/usr/local/Miniconda3-py39_4.9.2-Linux-x86_64/lib/python3.9/site-packages/IPython/lib/latextools.py:126: MatplotlibDeprecationWarning: \n",
      "The MathtextBackendBitmap class was deprecated in Matplotlib 3.4 and will be removed two minor releases later. Use mathtext.math_to_image instead.\n",
      "  mt.to_png(f, s, fontsize=12, dpi=dpi, color=color)\n"
     ]
    },
    {
     "data": {
      "image/png": "[encoded data removed]",
      "text/latex": [
       "$\\displaystyle \\frac{\\left(12 x + 4\\right) \\left(3 x^{2} + 2 x\\right)}{x^{2}} - \\frac{2 \\left(3 x^{2} + 2 x\\right)^{2}}{x^{3}}$"
      ],
      "text/plain": [
       "                                        2\n",
       "           ⎛   2      ⎞     ⎛   2      ⎞ \n",
       "(12⋅x + 4)⋅⎝3⋅x  + 2⋅x⎠   2⋅⎝3⋅x  + 2⋅x⎠ \n",
       "─────────────────────── - ───────────────\n",
       "            2                     3      \n",
       "           x                     x       "
      ]
     },
     "execution_count": 87,
     "metadata": {},
     "output_type": "execute_result"
    }
   ],
   "source": [
    "#Oppgave 2d\n",
    "sp.diff( (2*x + 3*x**2)**2 / x ** 2)"
   ]
  },
  {
   "cell_type": "code",
   "execution_count": 88,
   "id": "e7b31ff0-87b5-4eaa-b551-5cc90534c10b",
   "metadata": {},
   "outputs": [
    {
     "name": "stderr",
     "output_type": "stream",
     "text": [
      "/usr/local/Miniconda3-py39_4.9.2-Linux-x86_64/lib/python3.9/site-packages/IPython/lib/latextools.py:126: MatplotlibDeprecationWarning: \n",
      "The to_png function was deprecated in Matplotlib 3.4 and will be removed two minor releases later. Use mathtext.math_to_image instead.\n",
      "  mt.to_png(f, s, fontsize=12, dpi=dpi, color=color)\n",
      "/usr/local/Miniconda3-py39_4.9.2-Linux-x86_64/lib/python3.9/site-packages/IPython/lib/latextools.py:126: MatplotlibDeprecationWarning: \n",
      "The to_rgba function was deprecated in Matplotlib 3.4 and will be removed two minor releases later. Use mathtext.math_to_image instead.\n",
      "  mt.to_png(f, s, fontsize=12, dpi=dpi, color=color)\n",
      "/usr/local/Miniconda3-py39_4.9.2-Linux-x86_64/lib/python3.9/site-packages/IPython/lib/latextools.py:126: MatplotlibDeprecationWarning: \n",
      "The to_mask function was deprecated in Matplotlib 3.4 and will be removed two minor releases later. Use mathtext.math_to_image instead.\n",
      "  mt.to_png(f, s, fontsize=12, dpi=dpi, color=color)\n",
      "/usr/local/Miniconda3-py39_4.9.2-Linux-x86_64/lib/python3.9/site-packages/IPython/lib/latextools.py:126: MatplotlibDeprecationWarning: \n",
      "The MathtextBackendBitmap class was deprecated in Matplotlib 3.4 and will be removed two minor releases later. Use mathtext.math_to_image instead.\n",
      "  mt.to_png(f, s, fontsize=12, dpi=dpi, color=color)\n"
     ]
    },
    {
     "data": {
      "image/png": "[encoded data removed]",
      "text/latex": [
       "$\\displaystyle - \\frac{6}{x^{5} \\sqrt{-5 + \\frac{3}{x^{4}}}}$"
      ],
      "text/plain": [
       "       -6        \n",
       "─────────────────\n",
       "        _________\n",
       " 5     ╱      3  \n",
       "x ⋅   ╱  -5 + ── \n",
       "     ╱         4 \n",
       "   ╲╱         x  "
      ]
     },
     "execution_count": 88,
     "metadata": {},
     "output_type": "execute_result"
    }
   ],
   "source": [
    "#Oppgave 2e\n",
    "sp.diff(sp.sqrt(3/x**4 - 5))"
   ]
  },
  {
   "cell_type": "code",
   "execution_count": 89,
   "id": "7110c2aa-60fc-4830-aa7b-572ff8628484",
   "metadata": {},
   "outputs": [
    {
     "name": "stderr",
     "output_type": "stream",
     "text": [
      "/usr/local/Miniconda3-py39_4.9.2-Linux-x86_64/lib/python3.9/site-packages/IPython/lib/latextools.py:126: MatplotlibDeprecationWarning: \n",
      "The to_png function was deprecated in Matplotlib 3.4 and will be removed two minor releases later. Use mathtext.math_to_image instead.\n",
      "  mt.to_png(f, s, fontsize=12, dpi=dpi, color=color)\n",
      "/usr/local/Miniconda3-py39_4.9.2-Linux-x86_64/lib/python3.9/site-packages/IPython/lib/latextools.py:126: MatplotlibDeprecationWarning: \n",
      "The to_rgba function was deprecated in Matplotlib 3.4 and will be removed two minor releases later. Use mathtext.math_to_image instead.\n",
      "  mt.to_png(f, s, fontsize=12, dpi=dpi, color=color)\n",
      "/usr/local/Miniconda3-py39_4.9.2-Linux-x86_64/lib/python3.9/site-packages/IPython/lib/latextools.py:126: MatplotlibDeprecationWarning: \n",
      "The to_mask function was deprecated in Matplotlib 3.4 and will be removed two minor releases later. Use mathtext.math_to_image instead.\n",
      "  mt.to_png(f, s, fontsize=12, dpi=dpi, color=color)\n",
      "/usr/local/Miniconda3-py39_4.9.2-Linux-x86_64/lib/python3.9/site-packages/IPython/lib/latextools.py:126: MatplotlibDeprecationWarning: \n",
      "The MathtextBackendBitmap class was deprecated in Matplotlib 3.4 and will be removed two minor releases later. Use mathtext.math_to_image instead.\n",
      "  mt.to_png(f, s, fontsize=12, dpi=dpi, color=color)\n"
     ]
    },
    {
     "data": {
      "image/png": "[encoded data removed]",
      "text/latex": [
       "$\\displaystyle \\frac{x^{2} \\left(x^{4} - 3\\right)}{\\left(x^{4} - 1\\right)^{\\frac{3}{2}}}$"
      ],
      "text/plain": [
       " 2 ⎛ 4    ⎞\n",
       "x ⋅⎝x  - 3⎠\n",
       "───────────\n",
       "        3/2\n",
       "⎛ 4    ⎞   \n",
       "⎝x  - 1⎠   "
      ]
     },
     "execution_count": 89,
     "metadata": {},
     "output_type": "execute_result"
    }
   ],
   "source": [
    "#Oppgave 2f\n",
    "ruue = sp.diff(x**3 / sp.sqrt(x**4 - 1))\n",
    "simplify(ruue)"
   ]
  },
  {
   "cell_type": "markdown",
   "id": "585becda-39c9-41b3-9a44-681d5f250c15",
   "metadata": {},
   "source": [
    "# Likningsett 22"
   ]
  },
  {
   "cell_type": "code",
   "execution_count": 90,
   "id": "d2de0ea2-1e3d-4681-b76d-7d235badfa39",
   "metadata": {},
   "outputs": [],
   "source": [
    "#Oppgave 1a."
   ]
  },
  {
   "cell_type": "code",
   "execution_count": 91,
   "id": "bb915ab0-ec8d-4a5b-b9d3-4716e010c43d",
   "metadata": {},
   "outputs": [],
   "source": [
    "def f(x): return \n"
   ]
  },
  {
   "cell_type": "code",
   "execution_count": 92,
   "id": "4c453547-856d-41a1-9489-4aab3b097981",
   "metadata": {},
   "outputs": [
    {
     "name": "stderr",
     "output_type": "stream",
     "text": [
      "/usr/local/Miniconda3-py39_4.9.2-Linux-x86_64/lib/python3.9/site-packages/IPython/lib/latextools.py:126: MatplotlibDeprecationWarning: \n",
      "The to_png function was deprecated in Matplotlib 3.4 and will be removed two minor releases later. Use mathtext.math_to_image instead.\n",
      "  mt.to_png(f, s, fontsize=12, dpi=dpi, color=color)\n",
      "/usr/local/Miniconda3-py39_4.9.2-Linux-x86_64/lib/python3.9/site-packages/IPython/lib/latextools.py:126: MatplotlibDeprecationWarning: \n",
      "The to_rgba function was deprecated in Matplotlib 3.4 and will be removed two minor releases later. Use mathtext.math_to_image instead.\n",
      "  mt.to_png(f, s, fontsize=12, dpi=dpi, color=color)\n",
      "/usr/local/Miniconda3-py39_4.9.2-Linux-x86_64/lib/python3.9/site-packages/IPython/lib/latextools.py:126: MatplotlibDeprecationWarning: \n",
      "The to_mask function was deprecated in Matplotlib 3.4 and will be removed two minor releases later. Use mathtext.math_to_image instead.\n",
      "  mt.to_png(f, s, fontsize=12, dpi=dpi, color=color)\n",
      "/usr/local/Miniconda3-py39_4.9.2-Linux-x86_64/lib/python3.9/site-packages/IPython/lib/latextools.py:126: MatplotlibDeprecationWarning: \n",
      "The MathtextBackendBitmap class was deprecated in Matplotlib 3.4 and will be removed two minor releases later. Use mathtext.math_to_image instead.\n",
      "  mt.to_png(f, s, fontsize=12, dpi=dpi, color=color)\n"
     ]
    },
    {
     "data": {
      "image/png": "[encoded data removed]",
      "text/latex": [
       "$\\displaystyle \\frac{1}{x}$"
      ],
      "text/plain": [
       "1\n",
       "─\n",
       "x"
      ]
     },
     "execution_count": 92,
     "metadata": {},
     "output_type": "execute_result"
    }
   ],
   "source": [
    "sp.diff(log(5*x))"
   ]
  },
  {
   "cell_type": "code",
   "execution_count": 93,
   "id": "2c60380b-f2a2-407e-a690-c213b575bb7d",
   "metadata": {},
   "outputs": [],
   "source": [
    "#Oppgave 1b."
   ]
  },
  {
   "cell_type": "code",
   "execution_count": 94,
   "id": "84ad85bf-c230-4a8e-9497-b918649e77a3",
   "metadata": {},
   "outputs": [
    {
     "name": "stderr",
     "output_type": "stream",
     "text": [
      "/usr/local/Miniconda3-py39_4.9.2-Linux-x86_64/lib/python3.9/site-packages/IPython/lib/latextools.py:126: MatplotlibDeprecationWarning: \n",
      "The to_png function was deprecated in Matplotlib 3.4 and will be removed two minor releases later. Use mathtext.math_to_image instead.\n",
      "  mt.to_png(f, s, fontsize=12, dpi=dpi, color=color)\n",
      "/usr/local/Miniconda3-py39_4.9.2-Linux-x86_64/lib/python3.9/site-packages/IPython/lib/latextools.py:126: MatplotlibDeprecationWarning: \n",
      "The to_rgba function was deprecated in Matplotlib 3.4 and will be removed two minor releases later. Use mathtext.math_to_image instead.\n",
      "  mt.to_png(f, s, fontsize=12, dpi=dpi, color=color)\n",
      "/usr/local/Miniconda3-py39_4.9.2-Linux-x86_64/lib/python3.9/site-packages/IPython/lib/latextools.py:126: MatplotlibDeprecationWarning: \n",
      "The to_mask function was deprecated in Matplotlib 3.4 and will be removed two minor releases later. Use mathtext.math_to_image instead.\n",
      "  mt.to_png(f, s, fontsize=12, dpi=dpi, color=color)\n",
      "/usr/local/Miniconda3-py39_4.9.2-Linux-x86_64/lib/python3.9/site-packages/IPython/lib/latextools.py:126: MatplotlibDeprecationWarning: \n",
      "The MathtextBackendBitmap class was deprecated in Matplotlib 3.4 and will be removed two minor releases later. Use mathtext.math_to_image instead.\n",
      "  mt.to_png(f, s, fontsize=12, dpi=dpi, color=color)\n"
     ]
    },
    {
     "data": {
      "image/png": "[encoded data removed]",
      "text/latex": [
       "$\\displaystyle - 2 e^{- 2 x}$"
      ],
      "text/plain": [
       "    -2⋅x\n",
       "-2⋅ℯ    "
      ]
     },
     "execution_count": 94,
     "metadata": {},
     "output_type": "execute_result"
    }
   ],
   "source": [
    "sp.diff(sp.exp(-2*x))"
   ]
  },
  {
   "cell_type": "code",
   "execution_count": 95,
   "id": "53353dd0-9976-48be-9ef1-fc675a8c0e2d",
   "metadata": {},
   "outputs": [
    {
     "name": "stderr",
     "output_type": "stream",
     "text": [
      "/usr/local/Miniconda3-py39_4.9.2-Linux-x86_64/lib/python3.9/site-packages/IPython/lib/latextools.py:126: MatplotlibDeprecationWarning: \n",
      "The to_png function was deprecated in Matplotlib 3.4 and will be removed two minor releases later. Use mathtext.math_to_image instead.\n",
      "  mt.to_png(f, s, fontsize=12, dpi=dpi, color=color)\n",
      "/usr/local/Miniconda3-py39_4.9.2-Linux-x86_64/lib/python3.9/site-packages/IPython/lib/latextools.py:126: MatplotlibDeprecationWarning: \n",
      "The to_rgba function was deprecated in Matplotlib 3.4 and will be removed two minor releases later. Use mathtext.math_to_image instead.\n",
      "  mt.to_png(f, s, fontsize=12, dpi=dpi, color=color)\n",
      "/usr/local/Miniconda3-py39_4.9.2-Linux-x86_64/lib/python3.9/site-packages/IPython/lib/latextools.py:126: MatplotlibDeprecationWarning: \n",
      "The to_mask function was deprecated in Matplotlib 3.4 and will be removed two minor releases later. Use mathtext.math_to_image instead.\n",
      "  mt.to_png(f, s, fontsize=12, dpi=dpi, color=color)\n",
      "/usr/local/Miniconda3-py39_4.9.2-Linux-x86_64/lib/python3.9/site-packages/IPython/lib/latextools.py:126: MatplotlibDeprecationWarning: \n",
      "The MathtextBackendBitmap class was deprecated in Matplotlib 3.4 and will be removed two minor releases later. Use mathtext.math_to_image instead.\n",
      "  mt.to_png(f, s, fontsize=12, dpi=dpi, color=color)\n"
     ]
    },
    {
     "data": {
      "image/png": "[encoded data removed]",
      "text/latex": [
       "$\\displaystyle \\frac{1}{x}$"
      ],
      "text/plain": [
       "1\n",
       "─\n",
       "x"
      ]
     },
     "execution_count": 95,
     "metadata": {},
     "output_type": "execute_result"
    }
   ],
   "source": [
    "#Oppgave 1c.\n",
    "sp.diff(log(12*x)-3)"
   ]
  },
  {
   "cell_type": "code",
   "execution_count": 96,
   "id": "ece0d83b-c909-4f01-b3a7-f6d352ab684f",
   "metadata": {},
   "outputs": [
    {
     "name": "stderr",
     "output_type": "stream",
     "text": [
      "/usr/local/Miniconda3-py39_4.9.2-Linux-x86_64/lib/python3.9/site-packages/IPython/lib/latextools.py:126: MatplotlibDeprecationWarning: \n",
      "The to_png function was deprecated in Matplotlib 3.4 and will be removed two minor releases later. Use mathtext.math_to_image instead.\n",
      "  mt.to_png(f, s, fontsize=12, dpi=dpi, color=color)\n",
      "/usr/local/Miniconda3-py39_4.9.2-Linux-x86_64/lib/python3.9/site-packages/IPython/lib/latextools.py:126: MatplotlibDeprecationWarning: \n",
      "The to_rgba function was deprecated in Matplotlib 3.4 and will be removed two minor releases later. Use mathtext.math_to_image instead.\n",
      "  mt.to_png(f, s, fontsize=12, dpi=dpi, color=color)\n",
      "/usr/local/Miniconda3-py39_4.9.2-Linux-x86_64/lib/python3.9/site-packages/IPython/lib/latextools.py:126: MatplotlibDeprecationWarning: \n",
      "The to_mask function was deprecated in Matplotlib 3.4 and will be removed two minor releases later. Use mathtext.math_to_image instead.\n",
      "  mt.to_png(f, s, fontsize=12, dpi=dpi, color=color)\n",
      "/usr/local/Miniconda3-py39_4.9.2-Linux-x86_64/lib/python3.9/site-packages/IPython/lib/latextools.py:126: MatplotlibDeprecationWarning: \n",
      "The MathtextBackendBitmap class was deprecated in Matplotlib 3.4 and will be removed two minor releases later. Use mathtext.math_to_image instead.\n",
      "  mt.to_png(f, s, fontsize=12, dpi=dpi, color=color)\n"
     ]
    },
    {
     "data": {
      "image/png": "[encoded data removed]",
      "text/latex": [
       "$\\displaystyle 2^{x} \\log{\\left(2 \\right)}$"
      ],
      "text/plain": [
       " x       \n",
       "2 ⋅log(2)"
      ]
     },
     "execution_count": 96,
     "metadata": {},
     "output_type": "execute_result"
    }
   ],
   "source": [
    "#Oppgave 1d.\n",
    "sp.diff(2**x)"
   ]
  },
  {
   "cell_type": "code",
   "execution_count": 97,
   "id": "188f3d73-dc1d-4dd4-bba4-a36d09f0c2ea",
   "metadata": {},
   "outputs": [],
   "source": [
    "#Oppgave 1e."
   ]
  },
  {
   "cell_type": "code",
   "execution_count": 98,
   "id": "003f0f9b-6b18-4377-8e3f-e57f99a57fed",
   "metadata": {},
   "outputs": [
    {
     "name": "stderr",
     "output_type": "stream",
     "text": [
      "/usr/local/Miniconda3-py39_4.9.2-Linux-x86_64/lib/python3.9/site-packages/IPython/lib/latextools.py:126: MatplotlibDeprecationWarning: \n",
      "The to_png function was deprecated in Matplotlib 3.4 and will be removed two minor releases later. Use mathtext.math_to_image instead.\n",
      "  mt.to_png(f, s, fontsize=12, dpi=dpi, color=color)\n",
      "/usr/local/Miniconda3-py39_4.9.2-Linux-x86_64/lib/python3.9/site-packages/IPython/lib/latextools.py:126: MatplotlibDeprecationWarning: \n",
      "The to_rgba function was deprecated in Matplotlib 3.4 and will be removed two minor releases later. Use mathtext.math_to_image instead.\n",
      "  mt.to_png(f, s, fontsize=12, dpi=dpi, color=color)\n",
      "/usr/local/Miniconda3-py39_4.9.2-Linux-x86_64/lib/python3.9/site-packages/IPython/lib/latextools.py:126: MatplotlibDeprecationWarning: \n",
      "The to_mask function was deprecated in Matplotlib 3.4 and will be removed two minor releases later. Use mathtext.math_to_image instead.\n",
      "  mt.to_png(f, s, fontsize=12, dpi=dpi, color=color)\n",
      "/usr/local/Miniconda3-py39_4.9.2-Linux-x86_64/lib/python3.9/site-packages/IPython/lib/latextools.py:126: MatplotlibDeprecationWarning: \n",
      "The MathtextBackendBitmap class was deprecated in Matplotlib 3.4 and will be removed two minor releases later. Use mathtext.math_to_image instead.\n",
      "  mt.to_png(f, s, fontsize=12, dpi=dpi, color=color)\n"
     ]
    },
    {
     "data": {
      "image/png": "[encoded data removed]",
      "text/latex": [
       "$\\displaystyle 3 e^{3 x + 5}$"
      ],
      "text/plain": [
       "   3⋅x + 5\n",
       "3⋅ℯ       "
      ]
     },
     "execution_count": 98,
     "metadata": {},
     "output_type": "execute_result"
    }
   ],
   "source": [
    "sp.diff(sp.exp(3*x+5))"
   ]
  },
  {
   "cell_type": "code",
   "execution_count": 99,
   "id": "94725fbb-c2f7-4be9-b129-714fd9e0f7e9",
   "metadata": {},
   "outputs": [
    {
     "name": "stderr",
     "output_type": "stream",
     "text": [
      "/usr/local/Miniconda3-py39_4.9.2-Linux-x86_64/lib/python3.9/site-packages/IPython/lib/latextools.py:126: MatplotlibDeprecationWarning: \n",
      "The to_png function was deprecated in Matplotlib 3.4 and will be removed two minor releases later. Use mathtext.math_to_image instead.\n",
      "  mt.to_png(f, s, fontsize=12, dpi=dpi, color=color)\n",
      "/usr/local/Miniconda3-py39_4.9.2-Linux-x86_64/lib/python3.9/site-packages/IPython/lib/latextools.py:126: MatplotlibDeprecationWarning: \n",
      "The to_rgba function was deprecated in Matplotlib 3.4 and will be removed two minor releases later. Use mathtext.math_to_image instead.\n",
      "  mt.to_png(f, s, fontsize=12, dpi=dpi, color=color)\n",
      "/usr/local/Miniconda3-py39_4.9.2-Linux-x86_64/lib/python3.9/site-packages/IPython/lib/latextools.py:126: MatplotlibDeprecationWarning: \n",
      "The to_mask function was deprecated in Matplotlib 3.4 and will be removed two minor releases later. Use mathtext.math_to_image instead.\n",
      "  mt.to_png(f, s, fontsize=12, dpi=dpi, color=color)\n",
      "/usr/local/Miniconda3-py39_4.9.2-Linux-x86_64/lib/python3.9/site-packages/IPython/lib/latextools.py:126: MatplotlibDeprecationWarning: \n",
      "The MathtextBackendBitmap class was deprecated in Matplotlib 3.4 and will be removed two minor releases later. Use mathtext.math_to_image instead.\n",
      "  mt.to_png(f, s, fontsize=12, dpi=dpi, color=color)\n"
     ]
    },
    {
     "data": {
      "image/png": "[encoded data removed]",
      "text/latex": [
       "$\\displaystyle \\frac{5 x^{4}}{x^{5} + 1}$"
      ],
      "text/plain": [
       "    4 \n",
       " 5⋅x  \n",
       "──────\n",
       " 5    \n",
       "x  + 1"
      ]
     },
     "execution_count": 99,
     "metadata": {},
     "output_type": "execute_result"
    }
   ],
   "source": [
    "#Oppgave 1f.\n",
    "sp.diff(sp.log(x**5+1))"
   ]
  },
  {
   "cell_type": "code",
   "execution_count": 100,
   "id": "15676092-359a-4d06-b12b-efedfe6ee3cb",
   "metadata": {},
   "outputs": [
    {
     "name": "stderr",
     "output_type": "stream",
     "text": [
      "/usr/local/Miniconda3-py39_4.9.2-Linux-x86_64/lib/python3.9/site-packages/IPython/lib/latextools.py:126: MatplotlibDeprecationWarning: \n",
      "The to_png function was deprecated in Matplotlib 3.4 and will be removed two minor releases later. Use mathtext.math_to_image instead.\n",
      "  mt.to_png(f, s, fontsize=12, dpi=dpi, color=color)\n",
      "/usr/local/Miniconda3-py39_4.9.2-Linux-x86_64/lib/python3.9/site-packages/IPython/lib/latextools.py:126: MatplotlibDeprecationWarning: \n",
      "The to_rgba function was deprecated in Matplotlib 3.4 and will be removed two minor releases later. Use mathtext.math_to_image instead.\n",
      "  mt.to_png(f, s, fontsize=12, dpi=dpi, color=color)\n",
      "/usr/local/Miniconda3-py39_4.9.2-Linux-x86_64/lib/python3.9/site-packages/IPython/lib/latextools.py:126: MatplotlibDeprecationWarning: \n",
      "The to_mask function was deprecated in Matplotlib 3.4 and will be removed two minor releases later. Use mathtext.math_to_image instead.\n",
      "  mt.to_png(f, s, fontsize=12, dpi=dpi, color=color)\n",
      "/usr/local/Miniconda3-py39_4.9.2-Linux-x86_64/lib/python3.9/site-packages/IPython/lib/latextools.py:126: MatplotlibDeprecationWarning: \n",
      "The MathtextBackendBitmap class was deprecated in Matplotlib 3.4 and will be removed two minor releases later. Use mathtext.math_to_image instead.\n",
      "  mt.to_png(f, s, fontsize=12, dpi=dpi, color=color)\n"
     ]
    },
    {
     "data": {
      "image/png": "[encoded data removed]",
      "text/latex": [
       "$\\displaystyle \\left(8^{x} \\log{\\left(8 \\right)} + 8 x\\right) e^{8^{x} + 4 x^{2}}$"
      ],
      "text/plain": [
       "                    x      2\n",
       "⎛ x             ⎞  8  + 4⋅x \n",
       "⎝8 ⋅log(8) + 8⋅x⎠⋅ℯ         "
      ]
     },
     "execution_count": 100,
     "metadata": {},
     "output_type": "execute_result"
    }
   ],
   "source": [
    "#Oppgave 1g.\n",
    "sp.diff(sp.exp(4*x**2+8**x))"
   ]
  },
  {
   "cell_type": "code",
   "execution_count": 101,
   "id": "f646be16-3e83-4833-8533-12203702e207",
   "metadata": {},
   "outputs": [
    {
     "name": "stderr",
     "output_type": "stream",
     "text": [
      "/usr/local/Miniconda3-py39_4.9.2-Linux-x86_64/lib/python3.9/site-packages/IPython/lib/latextools.py:126: MatplotlibDeprecationWarning: \n",
      "The to_png function was deprecated in Matplotlib 3.4 and will be removed two minor releases later. Use mathtext.math_to_image instead.\n",
      "  mt.to_png(f, s, fontsize=12, dpi=dpi, color=color)\n",
      "/usr/local/Miniconda3-py39_4.9.2-Linux-x86_64/lib/python3.9/site-packages/IPython/lib/latextools.py:126: MatplotlibDeprecationWarning: \n",
      "The to_rgba function was deprecated in Matplotlib 3.4 and will be removed two minor releases later. Use mathtext.math_to_image instead.\n",
      "  mt.to_png(f, s, fontsize=12, dpi=dpi, color=color)\n",
      "/usr/local/Miniconda3-py39_4.9.2-Linux-x86_64/lib/python3.9/site-packages/IPython/lib/latextools.py:126: MatplotlibDeprecationWarning: \n",
      "The to_mask function was deprecated in Matplotlib 3.4 and will be removed two minor releases later. Use mathtext.math_to_image instead.\n",
      "  mt.to_png(f, s, fontsize=12, dpi=dpi, color=color)\n",
      "/usr/local/Miniconda3-py39_4.9.2-Linux-x86_64/lib/python3.9/site-packages/IPython/lib/latextools.py:126: MatplotlibDeprecationWarning: \n",
      "The MathtextBackendBitmap class was deprecated in Matplotlib 3.4 and will be removed two minor releases later. Use mathtext.math_to_image instead.\n",
      "  mt.to_png(f, s, fontsize=12, dpi=dpi, color=color)\n"
     ]
    },
    {
     "data": {
      "image/png": "[encoded data removed]",
      "text/latex": [
       "$\\displaystyle - \\frac{1}{x}$"
      ],
      "text/plain": [
       "-1 \n",
       "───\n",
       " x "
      ]
     },
     "execution_count": 101,
     "metadata": {},
     "output_type": "execute_result"
    }
   ],
   "source": [
    "#Oppgave 1h.\n",
    "sp.diff(sp.log(1 / x))"
   ]
  },
  {
   "cell_type": "code",
   "execution_count": 102,
   "id": "55b24fdd-a541-4558-bb6e-fce66b67ae07",
   "metadata": {},
   "outputs": [
    {
     "ename": "SyntaxError",
     "evalue": "unexpected EOF while parsing (2662702746.py, line 2)",
     "output_type": "error",
     "traceback": [
      "\u001b[0;36m  File \u001b[0;32m\"/tmp/ipykernel_41475/2662702746.py\"\u001b[0;36m, line \u001b[0;32m2\u001b[0m\n\u001b[0;31m    sp.diff(sp.log(6*x + 3 * sp.exp(4*x)\u001b[0m\n\u001b[0m                                        ^\u001b[0m\n\u001b[0;31mSyntaxError\u001b[0m\u001b[0;31m:\u001b[0m unexpected EOF while parsing\n"
     ]
    }
   ],
   "source": [
    "#Oppgave 1i.\n",
    "sp.diff(sp.log(6*x + 3 * sp.exp(4*x)"
   ]
  },
  {
   "cell_type": "code",
   "execution_count": 103,
   "id": "c7961838-5ffa-4b27-911c-9d5c315fe8c2",
   "metadata": {},
   "outputs": [
    {
     "name": "stderr",
     "output_type": "stream",
     "text": [
      "/usr/local/Miniconda3-py39_4.9.2-Linux-x86_64/lib/python3.9/site-packages/IPython/lib/latextools.py:126: MatplotlibDeprecationWarning: \n",
      "The to_png function was deprecated in Matplotlib 3.4 and will be removed two minor releases later. Use mathtext.math_to_image instead.\n",
      "  mt.to_png(f, s, fontsize=12, dpi=dpi, color=color)\n",
      "/usr/local/Miniconda3-py39_4.9.2-Linux-x86_64/lib/python3.9/site-packages/IPython/lib/latextools.py:126: MatplotlibDeprecationWarning: \n",
      "The to_rgba function was deprecated in Matplotlib 3.4 and will be removed two minor releases later. Use mathtext.math_to_image instead.\n",
      "  mt.to_png(f, s, fontsize=12, dpi=dpi, color=color)\n",
      "/usr/local/Miniconda3-py39_4.9.2-Linux-x86_64/lib/python3.9/site-packages/IPython/lib/latextools.py:126: MatplotlibDeprecationWarning: \n",
      "The to_mask function was deprecated in Matplotlib 3.4 and will be removed two minor releases later. Use mathtext.math_to_image instead.\n",
      "  mt.to_png(f, s, fontsize=12, dpi=dpi, color=color)\n",
      "/usr/local/Miniconda3-py39_4.9.2-Linux-x86_64/lib/python3.9/site-packages/IPython/lib/latextools.py:126: MatplotlibDeprecationWarning: \n",
      "The MathtextBackendBitmap class was deprecated in Matplotlib 3.4 and will be removed two minor releases later. Use mathtext.math_to_image instead.\n",
      "  mt.to_png(f, s, fontsize=12, dpi=dpi, color=color)\n"
     ]
    },
    {
     "data": {
      "image/png": "[encoded data removed]",
      "text/latex": [
       "$\\displaystyle - x e^{- x} + e^{- x}$"
      ],
      "text/plain": [
       "     -x    -x\n",
       "- x⋅ℯ   + ℯ  "
      ]
     },
     "execution_count": 103,
     "metadata": {},
     "output_type": "execute_result"
    }
   ],
   "source": [
    "#Oppgave 1j.\n",
    "sp.diff(x * sp.exp(-x))"
   ]
  },
  {
   "cell_type": "code",
   "execution_count": 104,
   "id": "9eb42a18-53af-4e46-adc0-cee06e4762a9",
   "metadata": {},
   "outputs": [
    {
     "name": "stderr",
     "output_type": "stream",
     "text": [
      "/usr/local/Miniconda3-py39_4.9.2-Linux-x86_64/lib/python3.9/site-packages/IPython/lib/latextools.py:126: MatplotlibDeprecationWarning: \n",
      "The to_png function was deprecated in Matplotlib 3.4 and will be removed two minor releases later. Use mathtext.math_to_image instead.\n",
      "  mt.to_png(f, s, fontsize=12, dpi=dpi, color=color)\n",
      "/usr/local/Miniconda3-py39_4.9.2-Linux-x86_64/lib/python3.9/site-packages/IPython/lib/latextools.py:126: MatplotlibDeprecationWarning: \n",
      "The to_rgba function was deprecated in Matplotlib 3.4 and will be removed two minor releases later. Use mathtext.math_to_image instead.\n",
      "  mt.to_png(f, s, fontsize=12, dpi=dpi, color=color)\n",
      "/usr/local/Miniconda3-py39_4.9.2-Linux-x86_64/lib/python3.9/site-packages/IPython/lib/latextools.py:126: MatplotlibDeprecationWarning: \n",
      "The to_mask function was deprecated in Matplotlib 3.4 and will be removed two minor releases later. Use mathtext.math_to_image instead.\n",
      "  mt.to_png(f, s, fontsize=12, dpi=dpi, color=color)\n",
      "/usr/local/Miniconda3-py39_4.9.2-Linux-x86_64/lib/python3.9/site-packages/IPython/lib/latextools.py:126: MatplotlibDeprecationWarning: \n",
      "The MathtextBackendBitmap class was deprecated in Matplotlib 3.4 and will be removed two minor releases later. Use mathtext.math_to_image instead.\n",
      "  mt.to_png(f, s, fontsize=12, dpi=dpi, color=color)\n"
     ]
    },
    {
     "data": {
      "image/png": "[encoded data removed]",
      "text/latex": [
       "$\\displaystyle \\frac{2 x^{3}}{x^{2} + 2} + 2 x \\log{\\left(x^{2} + 2 \\right)}$"
      ],
      "text/plain": [
       "    3                   \n",
       " 2⋅x            ⎛ 2    ⎞\n",
       "────── + 2⋅x⋅log⎝x  + 2⎠\n",
       " 2                      \n",
       "x  + 2                  "
      ]
     },
     "execution_count": 104,
     "metadata": {},
     "output_type": "execute_result"
    }
   ],
   "source": [
    "#Oppgave 1k.\n",
    "sp.diff(x**2 * sp.log(x**2+2))"
   ]
  },
  {
   "cell_type": "code",
   "execution_count": 105,
   "id": "b5a4d481-6ac1-48a3-b753-8a7020d4d016",
   "metadata": {},
   "outputs": [
    {
     "name": "stderr",
     "output_type": "stream",
     "text": [
      "/usr/local/Miniconda3-py39_4.9.2-Linux-x86_64/lib/python3.9/site-packages/IPython/lib/latextools.py:126: MatplotlibDeprecationWarning: \n",
      "The to_png function was deprecated in Matplotlib 3.4 and will be removed two minor releases later. Use mathtext.math_to_image instead.\n",
      "  mt.to_png(f, s, fontsize=12, dpi=dpi, color=color)\n",
      "/usr/local/Miniconda3-py39_4.9.2-Linux-x86_64/lib/python3.9/site-packages/IPython/lib/latextools.py:126: MatplotlibDeprecationWarning: \n",
      "The to_rgba function was deprecated in Matplotlib 3.4 and will be removed two minor releases later. Use mathtext.math_to_image instead.\n",
      "  mt.to_png(f, s, fontsize=12, dpi=dpi, color=color)\n",
      "/usr/local/Miniconda3-py39_4.9.2-Linux-x86_64/lib/python3.9/site-packages/IPython/lib/latextools.py:126: MatplotlibDeprecationWarning: \n",
      "The to_mask function was deprecated in Matplotlib 3.4 and will be removed two minor releases later. Use mathtext.math_to_image instead.\n",
      "  mt.to_png(f, s, fontsize=12, dpi=dpi, color=color)\n",
      "/usr/local/Miniconda3-py39_4.9.2-Linux-x86_64/lib/python3.9/site-packages/IPython/lib/latextools.py:126: MatplotlibDeprecationWarning: \n",
      "The MathtextBackendBitmap class was deprecated in Matplotlib 3.4 and will be removed two minor releases later. Use mathtext.math_to_image instead.\n",
      "  mt.to_png(f, s, fontsize=12, dpi=dpi, color=color)\n"
     ]
    },
    {
     "data": {
      "image/png": "[encoded data removed]",
      "text/latex": [
       "$\\displaystyle x^{2} \\left(2 x + 3\\right) e^{2 x}$"
      ],
      "text/plain": [
       " 2            2⋅x\n",
       "x ⋅(2⋅x + 3)⋅ℯ   "
      ]
     },
     "execution_count": 105,
     "metadata": {},
     "output_type": "execute_result"
    }
   ],
   "source": [
    "# Oppgave 2a.\n",
    "rp = sp.diff(x**3 * sp.exp(2*x))\n",
    "simplify(rp)"
   ]
  },
  {
   "cell_type": "code",
   "execution_count": 106,
   "id": "7f335297-7fbe-448c-95e5-a848c1f8aa84",
   "metadata": {},
   "outputs": [
    {
     "name": "stderr",
     "output_type": "stream",
     "text": [
      "/usr/local/Miniconda3-py39_4.9.2-Linux-x86_64/lib/python3.9/site-packages/IPython/lib/latextools.py:126: MatplotlibDeprecationWarning: \n",
      "The to_png function was deprecated in Matplotlib 3.4 and will be removed two minor releases later. Use mathtext.math_to_image instead.\n",
      "  mt.to_png(f, s, fontsize=12, dpi=dpi, color=color)\n",
      "/usr/local/Miniconda3-py39_4.9.2-Linux-x86_64/lib/python3.9/site-packages/IPython/lib/latextools.py:126: MatplotlibDeprecationWarning: \n",
      "The to_rgba function was deprecated in Matplotlib 3.4 and will be removed two minor releases later. Use mathtext.math_to_image instead.\n",
      "  mt.to_png(f, s, fontsize=12, dpi=dpi, color=color)\n",
      "/usr/local/Miniconda3-py39_4.9.2-Linux-x86_64/lib/python3.9/site-packages/IPython/lib/latextools.py:126: MatplotlibDeprecationWarning: \n",
      "The to_mask function was deprecated in Matplotlib 3.4 and will be removed two minor releases later. Use mathtext.math_to_image instead.\n",
      "  mt.to_png(f, s, fontsize=12, dpi=dpi, color=color)\n",
      "/usr/local/Miniconda3-py39_4.9.2-Linux-x86_64/lib/python3.9/site-packages/IPython/lib/latextools.py:126: MatplotlibDeprecationWarning: \n",
      "The MathtextBackendBitmap class was deprecated in Matplotlib 3.4 and will be removed two minor releases later. Use mathtext.math_to_image instead.\n",
      "  mt.to_png(f, s, fontsize=12, dpi=dpi, color=color)\n"
     ]
    },
    {
     "data": {
      "image/png": "[encoded data removed]",
      "text/latex": [
       "$\\displaystyle \\frac{2 x^{4} + 2}{x^{5} - x^{3} - x}$"
      ],
      "text/plain": [
       "     4     \n",
       "  2⋅x  + 2 \n",
       "───────────\n",
       " 5    3    \n",
       "x  - x  - x"
      ]
     },
     "execution_count": 106,
     "metadata": {},
     "output_type": "execute_result"
    }
   ],
   "source": [
    "#Oppgave 2b.\n",
    "kr = sp.diff(sp.log( x**2- 1 / x**2 - 1 ))\n",
    "simplify(kr)"
   ]
  },
  {
   "cell_type": "code",
   "execution_count": 107,
   "id": "976e9884-4a62-40ef-a4ca-4eea789dcdfd",
   "metadata": {},
   "outputs": [
    {
     "name": "stderr",
     "output_type": "stream",
     "text": [
      "/usr/local/Miniconda3-py39_4.9.2-Linux-x86_64/lib/python3.9/site-packages/IPython/lib/latextools.py:126: MatplotlibDeprecationWarning: \n",
      "The to_png function was deprecated in Matplotlib 3.4 and will be removed two minor releases later. Use mathtext.math_to_image instead.\n",
      "  mt.to_png(f, s, fontsize=12, dpi=dpi, color=color)\n",
      "/usr/local/Miniconda3-py39_4.9.2-Linux-x86_64/lib/python3.9/site-packages/IPython/lib/latextools.py:126: MatplotlibDeprecationWarning: \n",
      "The to_rgba function was deprecated in Matplotlib 3.4 and will be removed two minor releases later. Use mathtext.math_to_image instead.\n",
      "  mt.to_png(f, s, fontsize=12, dpi=dpi, color=color)\n",
      "/usr/local/Miniconda3-py39_4.9.2-Linux-x86_64/lib/python3.9/site-packages/IPython/lib/latextools.py:126: MatplotlibDeprecationWarning: \n",
      "The to_mask function was deprecated in Matplotlib 3.4 and will be removed two minor releases later. Use mathtext.math_to_image instead.\n",
      "  mt.to_png(f, s, fontsize=12, dpi=dpi, color=color)\n",
      "/usr/local/Miniconda3-py39_4.9.2-Linux-x86_64/lib/python3.9/site-packages/IPython/lib/latextools.py:126: MatplotlibDeprecationWarning: \n",
      "The MathtextBackendBitmap class was deprecated in Matplotlib 3.4 and will be removed two minor releases later. Use mathtext.math_to_image instead.\n",
      "  mt.to_png(f, s, fontsize=12, dpi=dpi, color=color)\n"
     ]
    },
    {
     "data": {
      "image/png": "[encoded data removed]",
      "text/latex": [
       "$\\displaystyle \\frac{2 x^{3}}{x^{2} + 2} + 2 x \\log{\\left(x^{2} + 2 \\right)}$"
      ],
      "text/plain": [
       "    3                   \n",
       " 2⋅x            ⎛ 2    ⎞\n",
       "────── + 2⋅x⋅log⎝x  + 2⎠\n",
       " 2                      \n",
       "x  + 2                  "
      ]
     },
     "execution_count": 107,
     "metadata": {},
     "output_type": "execute_result"
    }
   ],
   "source": [
    "#Oppgave 2c\n",
    "sp.diff(x**2 * sp.log(x**2 + 2))\n"
   ]
  },
  {
   "cell_type": "code",
   "execution_count": 108,
   "id": "4a964474-8db0-4186-b707-c2c9cace8819",
   "metadata": {},
   "outputs": [
    {
     "name": "stderr",
     "output_type": "stream",
     "text": [
      "/usr/local/Miniconda3-py39_4.9.2-Linux-x86_64/lib/python3.9/site-packages/IPython/lib/latextools.py:126: MatplotlibDeprecationWarning: \n",
      "The to_png function was deprecated in Matplotlib 3.4 and will be removed two minor releases later. Use mathtext.math_to_image instead.\n",
      "  mt.to_png(f, s, fontsize=12, dpi=dpi, color=color)\n",
      "/usr/local/Miniconda3-py39_4.9.2-Linux-x86_64/lib/python3.9/site-packages/IPython/lib/latextools.py:126: MatplotlibDeprecationWarning: \n",
      "The to_rgba function was deprecated in Matplotlib 3.4 and will be removed two minor releases later. Use mathtext.math_to_image instead.\n",
      "  mt.to_png(f, s, fontsize=12, dpi=dpi, color=color)\n",
      "/usr/local/Miniconda3-py39_4.9.2-Linux-x86_64/lib/python3.9/site-packages/IPython/lib/latextools.py:126: MatplotlibDeprecationWarning: \n",
      "The to_mask function was deprecated in Matplotlib 3.4 and will be removed two minor releases later. Use mathtext.math_to_image instead.\n",
      "  mt.to_png(f, s, fontsize=12, dpi=dpi, color=color)\n",
      "/usr/local/Miniconda3-py39_4.9.2-Linux-x86_64/lib/python3.9/site-packages/IPython/lib/latextools.py:126: MatplotlibDeprecationWarning: \n",
      "The MathtextBackendBitmap class was deprecated in Matplotlib 3.4 and will be removed two minor releases later. Use mathtext.math_to_image instead.\n",
      "  mt.to_png(f, s, fontsize=12, dpi=dpi, color=color)\n"
     ]
    },
    {
     "data": {
      "image/png": "[encoded data removed]",
      "text/latex": [
       "$\\displaystyle - \\frac{e^{- x}}{x^{2}} - \\frac{2 e^{- x}}{x^{3}}$"
      ],
      "text/plain": [
       "   -x      -x\n",
       "  ℯ     2⋅ℯ  \n",
       "- ─── - ─────\n",
       "    2      3 \n",
       "   x      x  "
      ]
     },
     "execution_count": 108,
     "metadata": {},
     "output_type": "execute_result"
    }
   ],
   "source": [
    "#Oppgave 2d.\n",
    "sp.diff(sp.exp(-x) / x**2 + 1)"
   ]
  },
  {
   "cell_type": "code",
   "execution_count": null,
   "id": "215044f5-1c11-46c6-93da-91701293b1e8",
   "metadata": {},
   "outputs": [],
   "source": []
  },
  {
   "cell_type": "code",
   "execution_count": null,
   "id": "3cb8f6a8-04f1-43c2-979b-bbe229aa7e85",
   "metadata": {},
   "outputs": [],
   "source": []
  }
 ],
 "metadata": {
  "kernelspec": {
   "display_name": "Python 3 (ipykernel)",
   "language": "python",
   "name": "python3"
  },
  "language_info": {
   "codemirror_mode": {
    "name": "ipython",
    "version": 3
   },
   "file_extension": ".py",
   "mimetype": "text/x-python",
   "name": "python",
   "nbconvert_exporter": "python",
   "pygments_lexer": "ipython3",
   "version": "3.9.5"
  }
 },
 "nbformat": 4,
 "nbformat_minor": 5
}
